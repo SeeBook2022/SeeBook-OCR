{
  "nbformat": 4,
  "nbformat_minor": 0,
  "metadata": {
    "colab": {
      "name": "iou_calculate.ipynb",
      "provenance": [],
      "mount_file_id": "198e6HYccHjpFz9kDNrTXAsqTsln7CU09",
      "authorship_tag": "ABX9TyMFewQOIplNKavag59djsQ1",
      "include_colab_link": true
    },
    "kernelspec": {
      "name": "python3",
      "display_name": "Python 3"
    },
    "language_info": {
      "name": "python"
    }
  },
  "cells": [
    {
      "cell_type": "markdown",
      "metadata": {
        "id": "view-in-github",
        "colab_type": "text"
      },
      "source": [
        "<a href=\"https://colab.research.google.com/github/SeeBook2022/SeeBook-OCR/blob/main/evaluate/iou_calculate.ipynb\" target=\"_parent\"><img src=\"https://colab.research.google.com/assets/colab-badge.svg\" alt=\"Open In Colab\"/></a>"
      ]
    },
    {
      "cell_type": "code",
      "source": [
        "import numpy as np\n",
        "import os\n",
        "import matplotlib.pyplot as plt\n",
        "import cv2\n",
        "import shutil\n",
        "import re"
      ],
      "metadata": {
        "id": "N9RXb6p2MrXn"
      },
      "execution_count": 9,
      "outputs": []
    },
    {
      "cell_type": "markdown",
      "source": [
        "### xywh형태의 파일(yolo포맷의 라벨 데이터)을 xyxy로 바꿔주는 함수"
      ],
      "metadata": {
        "id": "BLi45o3QpRlN"
      }
    },
    {
      "cell_type": "code",
      "source": [
        "\n",
        "def xywh_to_xyxy(file_path):\n",
        "    result = []\n",
        "    with open(file_path, 'r', encoding = 'utf-8-sig') as data_file:\n",
        "        data = data_file.read()\n",
        "        data = data.replace('\\n','')\n",
        "        data_list = data.split(' ')\n",
        "        x1, x2 = float(data_list[1]) - float(data_list[3])/2, float(data_list[1]) + float(data_list[3])/2\n",
        "        y1, y2 = float(data_list[2]) - float(data_list[4])/2, float(data_list[2]) + float(data_list[4])/2\n",
        "        result.extend([round(x1,6), round(y1,6), round(x2,6), round(y2,6)])\n",
        "    return result"
      ],
      "metadata": {
        "id": "t3qihVy7VGsU"
      },
      "execution_count": 24,
      "outputs": []
    },
    {
      "cell_type": "markdown",
      "source": [
        "### 0~1사이로 정규화 되어있는 값을 원래 값으로 바꿔주는 함수"
      ],
      "metadata": {
        "id": "mAJPYPs3pNvp"
      }
    },
    {
      "cell_type": "code",
      "source": [
        " \n",
        "def convert_to_ori_size(label_bbox, pred_bbox, image_shape):\n",
        "\n",
        "    # label_bbox 변환 (0~1값 -> 원 사이즈)\n",
        "    label_bbox[0] = int(label_bbox[0]*image_shape[1]) # x1좌표\n",
        "    label_bbox[1] = int(label_bbox[1]*image_shape[0]) # y1좌표\n",
        "    label_bbox[2] = int(label_bbox[2]*image_shape[1]) # x2좌표\n",
        "    label_bbox[3] = int(label_bbox[3]*image_shape[0]) # y2좌표\n",
        "\n",
        "    # pred_bbox 변환 (0~1값 -> 원 사이즈)\n",
        "    pred_bbox[0] = int(pred_bbox[0]*image_shape[1]) # x1좌표\n",
        "    pred_bbox[1] = int(pred_bbox[1]*image_shape[0]) # y1좌표\n",
        "    pred_bbox[2] = int(pred_bbox[2]*image_shape[1]) # x2좌표\n",
        "    pred_bbox[3] = int(pred_bbox[3]*image_shape[0]) # y2좌표\n",
        "\n",
        "    return label_bbox, pred_bbox"
      ],
      "metadata": {
        "id": "MfJKG2XfVnXv"
      },
      "execution_count": 25,
      "outputs": []
    },
    {
      "cell_type": "markdown",
      "source": [
        "### 이미지의 실제 bbox와 예측 bbox를 보여주는 함수"
      ],
      "metadata": {
        "id": "_VjFIoNMo-nO"
      }
    },
    {
      "cell_type": "code",
      "source": [
        "\n",
        "def show_bbox(file_path, label_bbox, pred_bbox):\n",
        "    img = cv2.imread(file_path) \n",
        "    img_rgb = cv2.cvtColor(img, cv2.COLOR_BGR2RGB)\n",
        "\n",
        "    label_ori, pred_ori =  convert_to_ori_size(label_bbox, pred_bbox, img.shape) # 0~1 사이의 bbox좌표를 원래 사이즈로 변환\n",
        "\n",
        "    green = (0,255,0)\n",
        "    red = (255,0,0)\n",
        "\n",
        "    img_show = cv2.rectangle(img_rgb, (label_ori[0], label_ori[1]), (label_ori[2], label_ori[3]), color = green, thickness = 2) # label_bbox 표시 \n",
        "    img_show = cv2.rectangle(img_rgb, (pred_ori[0], pred_ori[1]), (pred_ori[2], pred_ori[3]), color = red, thickness = 2) # pred_ori 표시\n",
        "    \n",
        "    plt.figure(figsize=(10,10))\n",
        "    plt.imshow(img_show)\n",
        "    plt.show()"
      ],
      "metadata": {
        "id": "v-chaXkQtCPS"
      },
      "execution_count": 34,
      "outputs": []
    },
    {
      "cell_type": "markdown",
      "source": [
        "### IoU 계산 함수"
      ],
      "metadata": {
        "id": "7HzNUDPwo7G_"
      }
    },
    {
      "cell_type": "code",
      "source": [
        "\n",
        "def cal_iou(label_box, pred_box):\n",
        "    # coordinates of intersection area \n",
        "    x1 = np.maximum(pred_box[0], label_box[0])\n",
        "    y1 = np.maximum(pred_box[1], label_box[1])\n",
        "    x2 = np.minimum(pred_box[2], label_box[2])\n",
        "    y2 = np.minimum(pred_box[3], label_box[3])\n",
        "\n",
        "    # calculate intersection area\n",
        "    inter = np.maximum(x2 - x1, 0) * np.maximum(y2 - y1, 0)\n",
        "\n",
        "    # calculate bbox1, 2 area\n",
        "    pred_box_area = (pred_box[2] - pred_box[0]) * (pred_box[3] - pred_box[1])\n",
        "    gt_box_area = (label_box[2] - label_box[0]) * (label_box[3] - label_box[1])\n",
        "\n",
        "    # calculate union area\n",
        "    union = pred_box_area + gt_box_area - inter\n",
        "\n",
        "    # calculate iou\n",
        "    iou = round(inter / union, 2)\n",
        "    \n",
        "    return iou"
      ],
      "metadata": {
        "id": "jo9DinsqUHq6"
      },
      "execution_count": 27,
      "outputs": []
    },
    {
      "cell_type": "markdown",
      "source": [
        "### jpg파일과 txt파일을 각각 image, labels 폴더로 이동"
      ],
      "metadata": {
        "id": "IUweD83YprrM"
      }
    },
    {
      "cell_type": "code",
      "source": [
        "ori_dir = '/content/drive/MyDrive/Aiffel_Hakathon/3rd_hackathon/stage2_iou_test/test_label/'\n",
        "labels_dir = '/content/drive/MyDrive/Aiffel_Hakathon/3rd_hackathon/stage2_iou_test/test_label/labels/'\n",
        "images_dir = '/content/drive/MyDrive/Aiffel_Hakathon/3rd_hackathon/stage2_iou_test/test_label/images/'\n",
        "\n",
        "file_names = os.listdir('/content/drive/MyDrive/Aiffel_Hakathon/3rd_hackathon/stage2_iou_test/test_label/')\n",
        "file_names\n",
        "\n",
        "for file_name in file_names:\n",
        "    if '.txt' in file_name:\n",
        "        shutil.move(ori_dir + file_name, labels_dir)\n",
        "    elif '.jpg' in file_name:\n",
        "        shutil.move(ori_dir + file_name, images_dir)\n",
        "    else:\n",
        "        continue\n"
      ],
      "metadata": {
        "id": "JqwXUZWY0c2v",
        "colab": {
          "base_uri": "https://localhost:8080/"
        },
        "outputId": "c7ed7b4f-675f-4ced-f95b-3361113f835c"
      },
      "execution_count": 5,
      "outputs": [
        {
          "output_type": "execute_result",
          "data": {
            "text/plain": [
              "['images', 'labels']"
            ]
          },
          "metadata": {},
          "execution_count": 5
        }
      ]
    },
    {
      "cell_type": "markdown",
      "source": [
        "### 파일이름을 오름차순으로 정렬하는 함수"
      ],
      "metadata": {
        "id": "l39Qol3hp7wW"
      }
    },
    {
      "cell_type": "code",
      "source": [
        "\n",
        "def file_sorted(files):\n",
        "    temp = [re.split(r\"([0-9]+)\", s) for s in files]\n",
        "    sort = sorted(temp, key = lambda x: (x[0].lower(), int(x[1])))\n",
        "    \n",
        "    return [''.join(s) for s in sort]"
      ],
      "metadata": {
        "id": "gjAsITolVKG4"
      },
      "execution_count": 6,
      "outputs": []
    },
    {
      "cell_type": "markdown",
      "source": [
        "### 파일경로를 리스트로 만드는 함수"
      ],
      "metadata": {
        "id": "2CzgLAi_qBBa"
      }
    },
    {
      "cell_type": "code",
      "source": [
        "def make_file_paths(path):\n",
        "    img_names = os.listdir(path)\n",
        "    file_names = file_sorted(img_names)\n",
        "    file_paths = []\n",
        "    for file_name in file_names:\n",
        "        file_paths.append(path + file_name)\n",
        "\n",
        "    return file_paths"
      ],
      "metadata": {
        "id": "cBqX2wzEXD87"
      },
      "execution_count": 7,
      "outputs": []
    },
    {
      "cell_type": "markdown",
      "source": [
        "### 정답 bbox와 예측 bbox의 IoU계산"
      ],
      "metadata": {
        "id": "Mp1KbetqqFef"
      }
    },
    {
      "cell_type": "code",
      "source": [
        "# label bbox의 경로\n",
        "labels_bbox_path = '/content/drive/MyDrive/Aiffel_Hakathon/3rd_hackathon/stage2_iou_test/test_label/labels/'\n",
        "# predicted bbox의 경로\n",
        "pred_bbox_path = '/content/drive/MyDrive/Aiffel_Hakathon/3rd_hackathon/stage2_iou_test/pred_bbox/labels/'\n",
        "\n",
        "# label bbox, predicted bbox 파일들의 경로를 리스트로 저장\n",
        "labels_list = make_file_paths(labels_bbox_path)\n",
        "pred_list = make_file_paths(pred_bbox_path)\n",
        "\n",
        "result = []\n",
        "\n",
        "for labels in labels_list:\n",
        "    label_name = labels.split('/')[-1] # label 데이터의 경로에서 파일 이름만 추출 \n",
        "\n",
        "    for preds in pred_list:\n",
        "        pred_name = preds.split('/')[-1] # predict 데이터의 경로에서 파일 이름만 추출\n",
        "        if label_name == pred_name: # yolo의 결과값이 존재할 경우 iou 계산\n",
        "\n",
        "            label_xyxy = xywh_to_xyxy(labels_bbox_path+label_name)\n",
        "            pred_xyxy = xywh_to_xyxy(pred_bbox_path + label_name)\n",
        "\n",
        "            calculated_iou = cal_iou(label_xyxy, pred_xyxy)\n",
        "            result.append(label_name +' : '+ str(calculated_iou))\n",
        "\n",
        "result\n",
        "\n"
      ],
      "metadata": {
        "colab": {
          "base_uri": "https://localhost:8080/"
        },
        "id": "yVyjFRm3XH57",
        "outputId": "5c68cf75-e298-404c-8906-9c63623f7f30"
      },
      "execution_count": 29,
      "outputs": [
        {
          "output_type": "execute_result",
          "data": {
            "text/plain": [
              "['test_crop_101.txt : 0.93',\n",
              " 'test_crop_102.txt : 0.94',\n",
              " 'test_crop_103.txt : 0.95',\n",
              " 'test_crop_104.txt : 0.94',\n",
              " 'test_crop_105.txt : 0.93',\n",
              " 'test_crop_106.txt : 0.52',\n",
              " 'test_crop_107.txt : 0.91',\n",
              " 'test_crop_108.txt : 0.93',\n",
              " 'test_crop_109.txt : 0.83',\n",
              " 'test_crop_110.txt : 0.93',\n",
              " 'test_crop_111.txt : 0.89',\n",
              " 'test_crop_112.txt : 0.94',\n",
              " 'test_crop_113.txt : 0.41',\n",
              " 'test_crop_114.txt : 0.93',\n",
              " 'test_crop_115.txt : 0.92',\n",
              " 'test_crop_116.txt : 0.91',\n",
              " 'test_crop_117.txt : 0.85',\n",
              " 'test_crop_118.txt : 0.96',\n",
              " 'test_crop_119.txt : 0.84',\n",
              " 'test_crop_120.txt : 0.57',\n",
              " 'test_crop_121.txt : 0.37',\n",
              " 'test_crop_122.txt : 0.77',\n",
              " 'test_crop_123.txt : 0.93',\n",
              " 'test_crop_124.txt : 0.96',\n",
              " 'test_crop_125.txt : 0.96',\n",
              " 'test_crop_126.txt : 0.4',\n",
              " 'test_crop_127.txt : 0.0',\n",
              " 'test_crop_128.txt : 0.9',\n",
              " 'test_crop_129.txt : 0.65',\n",
              " 'test_crop_130.txt : 0.9',\n",
              " 'test_crop_131.txt : 0.97',\n",
              " 'test_crop_132.txt : 0.89',\n",
              " 'test_crop_133.txt : 0.86',\n",
              " 'test_crop_134.txt : 0.98',\n",
              " 'test_crop_135.txt : 0.94',\n",
              " 'test_crop_136.txt : 0.95',\n",
              " 'test_crop_137.txt : 0.89',\n",
              " 'test_crop_138.txt : 0.87',\n",
              " 'test_crop_139.txt : 0.92',\n",
              " 'test_crop_141.txt : 0.95',\n",
              " 'test_crop_142.txt : 0.9',\n",
              " 'test_crop_143.txt : 0.9',\n",
              " 'test_crop_144.txt : 0.21',\n",
              " 'test_crop_145.txt : 0.82',\n",
              " 'test_crop_146.txt : 0.82',\n",
              " 'test_crop_147.txt : 0.89',\n",
              " 'test_crop_149.txt : 0.9',\n",
              " 'test_crop_150.txt : 0.96',\n",
              " 'test_crop_151.txt : 0.0',\n",
              " 'test_crop_152.txt : 0.94',\n",
              " 'test_crop_153.txt : 0.91',\n",
              " 'test_crop_154.txt : 0.85',\n",
              " 'test_crop_155.txt : 0.94',\n",
              " 'test_crop_156.txt : 0.78',\n",
              " 'test_crop_157.txt : 0.9',\n",
              " 'test_crop_158.txt : 0.94',\n",
              " 'test_crop_159.txt : 0.92',\n",
              " 'test_crop_160.txt : 0.9',\n",
              " 'test_crop_161.txt : 0.55',\n",
              " 'test_crop_162.txt : 0.97',\n",
              " 'test_crop_163.txt : 0.9',\n",
              " 'test_crop_164.txt : 0.9',\n",
              " 'test_crop_165.txt : 0.94',\n",
              " 'test_crop_166.txt : 0.89',\n",
              " 'test_crop_167.txt : 0.92',\n",
              " 'test_crop_168.txt : 0.92',\n",
              " 'test_crop_169.txt : 0.92',\n",
              " 'test_crop_170.txt : 0.94',\n",
              " 'test_crop_171.txt : 0.57',\n",
              " 'test_crop_172.txt : 0.89',\n",
              " 'test_crop_173.txt : 0.56',\n",
              " 'test_crop_174.txt : 0.94',\n",
              " 'test_crop_175.txt : 0.89',\n",
              " 'test_crop_176.txt : 0.89',\n",
              " 'test_crop_177.txt : 0.88',\n",
              " 'test_crop_178.txt : 0.73',\n",
              " 'test_crop_179.txt : 0.89',\n",
              " 'test_crop_180.txt : 0.76',\n",
              " 'test_crop_181.txt : 0.92',\n",
              " 'test_crop_182.txt : 0.5',\n",
              " 'test_crop_183.txt : 0.88',\n",
              " 'test_crop_184.txt : 0.91',\n",
              " 'test_crop_185.txt : 0.61',\n",
              " 'test_crop_186.txt : 0.97',\n",
              " 'test_crop_187.txt : 0.78',\n",
              " 'test_crop_188.txt : 0.84',\n",
              " 'test_crop_189.txt : 0.95',\n",
              " 'test_crop_190.txt : 0.65',\n",
              " 'test_crop_191.txt : 0.22',\n",
              " 'test_crop_192.txt : 0.9',\n",
              " 'test_crop_193.txt : 0.96',\n",
              " 'test_crop_194.txt : 0.89',\n",
              " 'test_crop_195.txt : 0.84',\n",
              " 'test_crop_196.txt : 0.49',\n",
              " 'test_crop_197.txt : 0.95',\n",
              " 'test_crop_198.txt : 0.91',\n",
              " 'test_crop_199.txt : 0.9',\n",
              " 'test_crop_200.txt : 0.96',\n",
              " 'test_crop_202.txt : 0.93',\n",
              " 'test_crop_203.txt : 0.92',\n",
              " 'test_crop_204.txt : 0.91',\n",
              " 'test_crop_205.txt : 0.63',\n",
              " 'test_crop_206.txt : 0.94',\n",
              " 'test_crop_207.txt : 0.93',\n",
              " 'test_crop_208.txt : 0.87',\n",
              " 'test_crop_209.txt : 0.98',\n",
              " 'test_crop_210.txt : 0.92',\n",
              " 'test_crop_211.txt : 0.87',\n",
              " 'test_crop_212.txt : 0.86',\n",
              " 'test_crop_213.txt : 0.95',\n",
              " 'test_crop_215.txt : 0.47',\n",
              " 'test_crop_216.txt : 0.97',\n",
              " 'test_crop_217.txt : 0.97',\n",
              " 'test_crop_218.txt : 0.94',\n",
              " 'test_crop_219.txt : 0.92',\n",
              " 'test_crop_220.txt : 0.72',\n",
              " 'test_crop_222.txt : 0.95',\n",
              " 'test_crop_223.txt : 0.3',\n",
              " 'test_crop_224.txt : 0.96',\n",
              " 'test_crop_225.txt : 0.93',\n",
              " 'test_crop_226.txt : 0.62',\n",
              " 'test_crop_227.txt : 0.92',\n",
              " 'test_crop_228.txt : 0.94',\n",
              " 'test_crop_229.txt : 0.95',\n",
              " 'test_crop_230.txt : 0.8',\n",
              " 'test_crop_231.txt : 0.96',\n",
              " 'test_crop_232.txt : 0.92',\n",
              " 'test_crop_233.txt : 0.92',\n",
              " 'test_crop_234.txt : 0.84',\n",
              " 'test_crop_235.txt : 0.91',\n",
              " 'test_crop_236.txt : 0.95',\n",
              " 'test_crop_237.txt : 0.91',\n",
              " 'test_crop_238.txt : 0.9',\n",
              " 'test_crop_239.txt : 0.95',\n",
              " 'test_crop_240.txt : 0.94',\n",
              " 'test_crop_241.txt : 0.37',\n",
              " 'test_crop_242.txt : 0.89',\n",
              " 'test_crop_243.txt : 0.9',\n",
              " 'test_crop_244.txt : 0.95',\n",
              " 'test_crop_245.txt : 0.98',\n",
              " 'test_crop_246.txt : 0.57',\n",
              " 'test_crop_247.txt : 0.87',\n",
              " 'test_crop_248.txt : 0.96',\n",
              " 'test_crop_249.txt : 0.95',\n",
              " 'test_crop_250.txt : 0.93',\n",
              " 'test_crop_251.txt : 0.91',\n",
              " 'test_crop_252.txt : 0.96',\n",
              " 'test_crop_253.txt : 0.95',\n",
              " 'test_crop_254.txt : 0.91',\n",
              " 'test_crop_255.txt : 0.93',\n",
              " 'test_crop_256.txt : 0.94',\n",
              " 'test_crop_257.txt : 0.0',\n",
              " 'test_crop_258.txt : 0.9',\n",
              " 'test_crop_259.txt : 0.92',\n",
              " 'test_crop_260.txt : 0.86',\n",
              " 'test_crop_261.txt : 0.85',\n",
              " 'test_crop_262.txt : 0.83',\n",
              " 'test_crop_263.txt : 0.85',\n",
              " 'test_crop_264.txt : 0.94',\n",
              " 'test_crop_265.txt : 0.84',\n",
              " 'test_crop_266.txt : 0.93',\n",
              " 'test_crop_267.txt : 0.91',\n",
              " 'test_crop_268.txt : 0.55',\n",
              " 'test_crop_269.txt : 0.72',\n",
              " 'test_crop_270.txt : 0.95',\n",
              " 'test_crop_271.txt : 0.87',\n",
              " 'test_crop_272.txt : 0.91',\n",
              " 'test_crop_273.txt : 0.77',\n",
              " 'test_crop_274.txt : 0.92',\n",
              " 'test_crop_275.txt : 0.84',\n",
              " 'test_crop_276.txt : 0.95',\n",
              " 'test_crop_277.txt : 0.96',\n",
              " 'test_crop_278.txt : 0.95',\n",
              " 'test_crop_279.txt : 0.88',\n",
              " 'test_crop_280.txt : 0.86',\n",
              " 'test_crop_281.txt : 0.91',\n",
              " 'test_crop_282.txt : 0.84',\n",
              " 'test_crop_283.txt : 0.91',\n",
              " 'test_crop_284.txt : 0.91',\n",
              " 'test_crop_285.txt : 0.95',\n",
              " 'test_crop_286.txt : 0.9',\n",
              " 'test_crop_287.txt : 0.89',\n",
              " 'test_crop_288.txt : 0.9',\n",
              " 'test_crop_289.txt : 0.93',\n",
              " 'test_crop_290.txt : 0.96',\n",
              " 'test_crop_291.txt : 0.92',\n",
              " 'test_crop_292.txt : 0.94',\n",
              " 'test_crop_293.txt : 0.87',\n",
              " 'test_crop_294.txt : 0.0',\n",
              " 'test_crop_295.txt : 0.85',\n",
              " 'test_crop_297.txt : 0.9',\n",
              " 'test_crop_298.txt : 0.9',\n",
              " 'test_crop_299.txt : 0.86',\n",
              " 'test_crop_301.txt : 0.9',\n",
              " 'test_crop_302.txt : 0.86',\n",
              " 'test_crop_303.txt : 0.93',\n",
              " 'test_crop_304.txt : 0.95',\n",
              " 'test_crop_305.txt : 0.9',\n",
              " 'test_crop_306.txt : 0.88',\n",
              " 'test_crop_307.txt : 0.61',\n",
              " 'test_crop_308.txt : 0.87',\n",
              " 'test_crop_309.txt : 0.9',\n",
              " 'test_crop_310.txt : 0.84',\n",
              " 'test_crop_311.txt : 0.89',\n",
              " 'test_crop_312.txt : 0.0',\n",
              " 'test_crop_313.txt : 0.69',\n",
              " 'test_crop_314.txt : 0.93',\n",
              " 'test_crop_315.txt : 0.97',\n",
              " 'test_crop_316.txt : 0.88',\n",
              " 'test_crop_317.txt : 0.92',\n",
              " 'test_crop_318.txt : 0.88',\n",
              " 'test_crop_319.txt : 0.83',\n",
              " 'test_crop_320.txt : 0.93',\n",
              " 'test_crop_321.txt : 0.86',\n",
              " 'test_crop_322.txt : 0.93',\n",
              " 'test_crop_323.txt : 0.94',\n",
              " 'test_crop_324.txt : 0.89',\n",
              " 'test_crop_325.txt : 0.62',\n",
              " 'test_crop_326.txt : 0.88',\n",
              " 'test_crop_327.txt : 0.45',\n",
              " 'test_crop_328.txt : 0.87',\n",
              " 'test_crop_329.txt : 0.9',\n",
              " 'test_crop_330.txt : 0.96',\n",
              " 'test_crop_331.txt : 0.9',\n",
              " 'test_crop_332.txt : 0.96',\n",
              " 'test_crop_333.txt : 0.93',\n",
              " 'test_crop_334.txt : 0.85',\n",
              " 'test_crop_335.txt : 0.5',\n",
              " 'test_crop_336.txt : 0.57',\n",
              " 'test_crop_337.txt : 0.86',\n",
              " 'test_crop_338.txt : 0.65',\n",
              " 'test_crop_339.txt : 0.8',\n",
              " 'test_crop_340.txt : 0.0',\n",
              " 'test_crop_341.txt : 0.91',\n",
              " 'test_crop_342.txt : 0.83',\n",
              " 'test_crop_343.txt : 0.91',\n",
              " 'test_crop_344.txt : 0.92',\n",
              " 'test_crop_345.txt : 0.91',\n",
              " 'test_crop_346.txt : 0.82',\n",
              " 'test_crop_347.txt : 0.0',\n",
              " 'test_crop_348.txt : 0.91',\n",
              " 'test_crop_349.txt : 0.82',\n",
              " 'test_crop_350.txt : 0.91',\n",
              " 'test_crop_351.txt : 0.0',\n",
              " 'test_crop_352.txt : 0.91',\n",
              " 'test_crop_353.txt : 0.92',\n",
              " 'test_crop_354.txt : 0.33',\n",
              " 'test_crop_355.txt : 0.9',\n",
              " 'test_crop_358.txt : 0.93',\n",
              " 'test_crop_359.txt : 0.97',\n",
              " 'test_crop_360.txt : 0.9',\n",
              " 'test_crop_361.txt : 0.92',\n",
              " 'test_crop_362.txt : 0.0',\n",
              " 'test_crop_363.txt : 0.9',\n",
              " 'test_crop_364.txt : 0.87',\n",
              " 'test_crop_365.txt : 0.85',\n",
              " 'test_crop_366.txt : 0.93',\n",
              " 'test_crop_367.txt : 0.91',\n",
              " 'test_crop_368.txt : 0.0',\n",
              " 'test_crop_369.txt : 0.97',\n",
              " 'test_crop_370.txt : 0.86',\n",
              " 'test_crop_371.txt : 0.92',\n",
              " 'test_crop_372.txt : 0.93',\n",
              " 'test_crop_373.txt : 0.91',\n",
              " 'test_crop_374.txt : 0.78',\n",
              " 'test_crop_375.txt : 0.94',\n",
              " 'test_crop_376.txt : 0.91',\n",
              " 'test_crop_377.txt : 0.94',\n",
              " 'test_crop_378.txt : 0.92',\n",
              " 'test_crop_379.txt : 0.93',\n",
              " 'test_crop_380.txt : 0.73',\n",
              " 'test_crop_381.txt : 0.38',\n",
              " 'test_crop_382.txt : 0.86',\n",
              " 'test_crop_384.txt : 0.69',\n",
              " 'test_crop_385.txt : 0.93',\n",
              " 'test_crop_386.txt : 0.46',\n",
              " 'test_crop_387.txt : 0.54',\n",
              " 'test_crop_388.txt : 0.82',\n",
              " 'test_crop_389.txt : 0.87',\n",
              " 'test_crop_390.txt : 0.82',\n",
              " 'test_crop_391.txt : 0.96',\n",
              " 'test_crop_392.txt : 0.95',\n",
              " 'test_crop_393.txt : 0.38',\n",
              " 'test_crop_394.txt : 0.92',\n",
              " 'test_crop_402.txt : 0.89',\n",
              " 'test_crop_408.txt : 0.86',\n",
              " 'test_crop_409.txt : 0.93',\n",
              " 'test_crop_411.txt : 0.95',\n",
              " 'test_crop_412.txt : 0.0',\n",
              " 'test_crop_413.txt : 0.88',\n",
              " 'test_crop_414.txt : 0.94',\n",
              " 'test_crop_415.txt : 0.85',\n",
              " 'test_crop_416.txt : 0.94',\n",
              " 'test_crop_417.txt : 0.47',\n",
              " 'test_crop_418.txt : 0.85',\n",
              " 'test_crop_419.txt : 0.92',\n",
              " 'test_crop_420.txt : 0.88',\n",
              " 'test_crop_421.txt : 0.6',\n",
              " 'test_crop_422.txt : 0.95',\n",
              " 'test_crop_423.txt : 0.68',\n",
              " 'test_crop_424.txt : 0.91',\n",
              " 'test_crop_425.txt : 0.84',\n",
              " 'test_crop_426.txt : 0.56',\n",
              " 'test_crop_427.txt : 0.88',\n",
              " 'test_crop_428.txt : 0.95',\n",
              " 'test_crop_429.txt : 0.87',\n",
              " 'test_crop_430.txt : 0.91',\n",
              " 'test_crop_431.txt : 0.91',\n",
              " 'test_crop_432.txt : 0.48',\n",
              " 'test_crop_433.txt : 0.93',\n",
              " 'test_crop_434.txt : 0.77',\n",
              " 'test_crop_435.txt : 0.88',\n",
              " 'test_crop_436.txt : 0.88',\n",
              " 'test_crop_437.txt : 0.9',\n",
              " 'test_crop_438.txt : 0.34',\n",
              " 'test_crop_439.txt : 0.44',\n",
              " 'test_crop_440.txt : 0.71',\n",
              " 'test_crop_441.txt : 0.86',\n",
              " 'test_crop_442.txt : 0.67',\n",
              " 'test_crop_443.txt : 0.91',\n",
              " 'test_crop_444.txt : 0.92',\n",
              " 'test_crop_445.txt : 0.84']"
            ]
          },
          "metadata": {},
          "execution_count": 29
        }
      ]
    },
    {
      "cell_type": "markdown",
      "source": [
        "### 결과확인"
      ],
      "metadata": {
        "id": "0_Uatxg8rQFS"
      }
    },
    {
      "cell_type": "code",
      "source": [
        "image_path = '/content/drive/MyDrive/Aiffel_Hakathon/3rd_hackathon/stage2_iou_test/test_label/images/'\n",
        "\n",
        "bbox1 = xywh_to_xyxy(labels_bbox_path+'test_crop_144.txt') # labeled bbox : 초록색\n",
        "bbox2 = xywh_to_xyxy(pred_bbox_path+'test_crop_144.txt') # predicted bbox : 빨간색\n",
        "\n",
        "show_bbox(image_path+'test_crop_144.jpg', bbox1, bbox2)"
      ],
      "metadata": {
        "colab": {
          "base_uri": "https://localhost:8080/",
          "height": 595
        },
        "id": "AD2O-Zn9hkWv",
        "outputId": "0eddbdd3-a747-43d2-cdde-ea0b9483d69f"
      },
      "execution_count": 38,
      "outputs": [
        {
          "output_type": "display_data",
          "data": {
            "image/png": "[encoded data removed]",
            "text/plain": [
              "<Figure size 720x720 with 1 Axes>"
            ]
          },
          "metadata": {
            "needs_background": "light"
          }
        }
      ]
    },
    {
      "cell_type": "code",
      "source": [
        ""
      ],
      "metadata": {
        "id": "_7IijkBpllvh"
      },
      "execution_count": null,
      "outputs": []
    }
  ]
}