{
  "nbformat": 4,
  "nbformat_minor": 0,
  "metadata": {
    "colab": {
      "name": "img_preprocessing_test.ipynb",
      "provenance": [],
      "collapsed_sections": [
        "lYoZGW9KtOzj",
        "tA5C9n7rno_G"
      ],
      "authorship_tag": "ABX9TyMHLYwEEfZDYN/Z847w+4fN",
      "include_colab_link": true
    },
    "kernelspec": {
      "name": "python3",
      "display_name": "Python 3"
    },
    "language_info": {
      "name": "python"
    }
  },
  "cells": [
    {
      "cell_type": "markdown",
      "metadata": {
        "id": "view-in-github",
        "colab_type": "text"
      },
      "source": [
        "<a href=\"https://colab.research.google.com/github/SeeBook2022/SeeBook-OCR/blob/main/OCR/img_preprocessing_test.ipynb\" target=\"_parent\"><img src=\"https://colab.research.google.com/assets/colab-badge.svg\" alt=\"Open In Colab\"/></a>"
      ]
    },
    {
      "cell_type": "markdown",
      "source": [
        "## 환경 셋팅\n"
      ],
      "metadata": {
        "id": "99m3JKNasIs4"
      }
    },
    {
      "cell_type": "code",
      "execution_count": null,
      "metadata": {
        "colab": {
          "base_uri": "https://localhost:8080/"
        },
        "id": "LzNPT4reT7ww",
        "outputId": "34755865-874a-4365-ec1a-489eae4cbf56"
      },
      "outputs": [
        {
          "output_type": "stream",
          "name": "stdout",
          "text": [
            "Drive already mounted at /content/drive; to attempt to forcibly remount, call drive.mount(\"/content/drive\", force_remount=True).\n"
          ]
        }
      ],
      "source": [
        "from google.colab import drive\n",
        "drive.mount('/content/drive')"
      ]
    },
    {
      "cell_type": "code",
      "source": [
        "%pip install --upgrade google-api-python-client"
      ],
      "metadata": {
        "id": "9YTaduJxXsaL"
      },
      "execution_count": null,
      "outputs": []
    },
    {
      "cell_type": "code",
      "source": [
        "%pip install google-cloud-vision"
      ],
      "metadata": {
        "id": "fFcmbVACXsca"
      },
      "execution_count": null,
      "outputs": []
    },
    {
      "cell_type": "code",
      "source": [
        "import os"
      ],
      "metadata": {
        "id": "1N9U9fohXnIZ"
      },
      "execution_count": null,
      "outputs": []
    },
    {
      "cell_type": "code",
      "source": [
        "!ls -l $GOOGLE_APPLICATION_CREDENTIALS\n",
        "os.environ[\"GOOGLE_APPLICATION_CREDENTIALS\"] =  '/content/drive/MyDrive/aiffel_hackathon3/google_api_key/my_google_api_key.json'"
      ],
      "metadata": {
        "id": "pM6LpAM3XnPs"
      },
      "execution_count": null,
      "outputs": []
    },
    {
      "cell_type": "markdown",
      "source": [
        "## google api & 이미지 전처리"
      ],
      "metadata": {
        "id": "h-dzQLwwtC8P"
      }
    },
    {
      "cell_type": "markdown",
      "source": [
        "- resize\n",
        "- contrast\n",
        "- brightness\n",
        "- byte화"
      ],
      "metadata": {
        "id": "eiiQlnqT0xxW"
      }
    },
    {
      "cell_type": "code",
      "source": [
        "def detect_text(img_bytes):\n",
        "    \"\"\"Detects text in the file.\"\"\"\n",
        "    from google.cloud import vision\n",
        "    import io\n",
        "    client = vision.ImageAnnotatorClient()\n",
        "\n",
        "    # with io.open(path, 'rb') as image_file:\n",
        "    #     content = image_file.read()\n",
        "        \n",
        "    image = vision.Image(content=img_bytes) # byte로 받아서 바로 실행\n",
        "\n",
        "    response = client.text_detection(image=image)\n",
        "    texts = response.text_annotations\n",
        "    \n",
        "    # 제목을 한 문장으로 추출할 수 있도록 코드 수정 (공백 제거)\n",
        "    result = ''\n",
        "    for idx, text in enumerate(texts):\n",
        "        if idx > 0: result += text.description \n",
        "    return result\n",
        "\n",
        "    if response.error.message:\n",
        "        raise Exception(\n",
        "            '{}\\nFor more info on error messages, check: '\n",
        "            'https://cloud.google.com/apis/design/errors'.format(\n",
        "                response.error.message))"
      ],
      "metadata": {
        "id": "ok3D-QQsXnSg"
      },
      "execution_count": null,
      "outputs": []
    },
    {
      "cell_type": "code",
      "source": [
        "# 1차 전처리 함수\n",
        "def img2gray(path):\n",
        "    import cv2\n",
        "    img = cv2.imread(path) # 이미지 불러오기\n",
        "    img_gray = cv2.cvtColor(img, cv2.COLOR_BGR2GRAY) # 흑백 처리\n",
        "    add_dst = cv2.add(img_gray, 100) # 밝기 조절\n",
        "    clahe = cv2.createCLAHE(clipLimit=2.0, tileGridSize=(4, 4)) # 대비 조절\n",
        "    gray_cont_dst = clahe.apply(add_dst)\n",
        "\n",
        "    img_bytes = cv2.imencode('.jpg', gray_cont_dst)[1].tobytes()\n",
        "\n",
        "    return img_bytes"
      ],
      "metadata": {
        "id": "ht8P0ZjhT-7l"
      },
      "execution_count": null,
      "outputs": []
    },
    {
      "cell_type": "code",
      "source": [
        "# result_list = []\n",
        "img_dir = '/content/drive/MyDrive/aiffel_hackathon3/test_dataset3_ver2/'\n",
        "for i in range(35):\n",
        "    path = img_dir + f'test_title{i+1}.jpg'\n",
        "    print(f'{i+1} 번째 책:')\n",
        "    print(detect_text(img2gray(path)))\n",
        "    print('='*30)\n",
        "    # result_list.append(detect_text(paths)) # 데이터 프레임화를 위한 리스트"
      ],
      "metadata": {
        "id": "uT440TE9cR8q"
      },
      "execution_count": null,
      "outputs": []
    },
    {
      "cell_type": "code",
      "source": [
        "# 2차 전처리 함수\n",
        "def img2gray2(path):\n",
        "    # from google.colab.patches import cv2_imshow\n",
        "    import cv2\n",
        "    img = cv2.imread(path) # 이미지 불러오기\n",
        "    img_gray = cv2.cvtColor(img, cv2.COLOR_BGR2GRAY) # 흑백 처리\n",
        "    img_gray = cv2.resize(img_gray, dsize=(0,0), fx = 1.5, fy= 1.5, interpolation=cv2.INTER_AREA)\n",
        "    add_dst = cv2.add(img_gray, 30) # 밝기 조절\n",
        "    # clahe = cv2.createCLAHE(clipLimit=2.0, tileGridSize=(4, 4)) # 대비 조절\n",
        "    # gray_cont_dst = clahe.apply(add_dst)\n",
        "\n",
        "    img_bytes = cv2.imencode('.jpg', add_dst)[1].tobytes()\n",
        "\n",
        "    return img_bytes\n",
        "\n",
        "    # cv2_imshow(add_dst)"
      ],
      "metadata": {
        "id": "-btuiRkjgsax"
      },
      "execution_count": null,
      "outputs": []
    },
    {
      "cell_type": "code",
      "source": [
        "def show_img(path): # 이미지 확인 용도\n",
        "    from google.colab.patches import cv2_imshow\n",
        "    import cv2\n",
        "    img = cv2.imread(path) # 이미지 불러오기\n",
        "    img_gray = cv2.cvtColor(img, cv2.COLOR_BGR2GRAY) # 흑백 처리\n",
        "    img_gray = cv2.resize(img_gray, dsize=(0,0), fx = 1.5, fy= 1.5, interpolation=cv2.INTER_AREA) # 진우님 \n",
        "    add_dst = cv2.add(img_gray, 30) # 밝기 조절\n",
        "\n",
        "    cv2_imshow(add_dst)\n",
        "\n",
        "    img_dir = '/content/drive/MyDrive/aiffel_hackathon3/test_dataset3_ver2/'\n",
        "for i in range(5):\n",
        "    path = img_dir + f'test_title{i+1}.jpg'\n",
        "    show_img(path)"
      ],
      "metadata": {
        "id": "U-FazHPRpR4E"
      },
      "execution_count": null,
      "outputs": []
    },
    {
      "cell_type": "markdown",
      "source": [
        "## 데이터 프레임화 & 결과 비교"
      ],
      "metadata": {
        "id": "lYoZGW9KtOzj"
      }
    },
    {
      "cell_type": "code",
      "source": [
        "result_list = []\n",
        "img_dir = '/content/drive/MyDrive/aiffel_hackathon3/test_dataset3_ver2/'\n",
        "for i in range(100):\n",
        "    path = img_dir + f'test_title{i+1}.jpg'\n",
        "    # print(f'{i+1} 번째 책:')\n",
        "    # print(detect_text(img2gray2(path)))\n",
        "    # print('='*30)\n",
        "    result_list.append(detect_text(img2gray2(path))) # 데이터 프레임화를 위한 리스트"
      ],
      "metadata": {
        "id": "F_QHQ-0NhbEy"
      },
      "execution_count": null,
      "outputs": []
    },
    {
      "cell_type": "code",
      "source": [
        "import pandas as pd\n",
        "# 정량 평가를 위한 테스트 데이터 라벨 csv 파일 불러오기\n",
        "df1 = pd.read_csv('/content/drive/MyDrive/aiffel_hackathon3/test_dataset3_title.csv', encoding = 'UTF-8')\n",
        "\n",
        "# 테스트 데이터 라벨과 예측값 합치기\n",
        "df1 = df1.assign(result = result_list)"
      ],
      "metadata": {
        "id": "8JgMB7o8jmlT"
      },
      "execution_count": null,
      "outputs": []
    },
    {
      "cell_type": "code",
      "source": [
        "# 후처리 함수 (특수문자 및 공백 제거)\n",
        "def preprocess_sentence(sentence):\n",
        "    import re\n",
        "    sentence = re.sub('[-=+,「#/\\?:^$.@*\\\"※~&%ㆍ!』\\\\‘|\\(\\)\\[\\]\\<\\>`\\'…》]','', sentence)\n",
        "    sentence = sentence.replace(' ', '') # 공백 제거\n",
        "    sentence = sentence.strip()\n",
        "    return sentence"
      ],
      "metadata": {
        "id": "B3Z4Ex9hknYw"
      },
      "execution_count": null,
      "outputs": []
    },
    {
      "cell_type": "code",
      "source": [
        "# 후처리 \n",
        "for idx, sentence in enumerate(df1['책제목']):\n",
        "    df1['책제목'][idx] = preprocess_sentence(sentence)\n",
        "for idx, sentence in enumerate(df1['result']):\n",
        "    df1['result'][idx] = preprocess_sentence(sentence)\n",
        "\n",
        "# 라벨링 잘못된 데이터 수정\n",
        "df1['책제목'][52] = '지금여기의페미니즘×민주주의'"
      ],
      "metadata": {
        "id": "4TwSq45Ykovv"
      },
      "execution_count": null,
      "outputs": []
    },
    {
      "cell_type": "code",
      "source": [
        "# 라벨, 예측값 비교 (성능 검증)\n",
        "val_1st = []\n",
        "for i in range(100):\n",
        "    if df1['result'][i] == '':\n",
        "        val_1st.append('0%')\n",
        "    elif df1['책제목'][i] == df1['result'][i]:\n",
        "        val_1st.append('100%')\n",
        "    else:\n",
        "        val_1st.append('False')\n",
        "\n",
        "df2 = df1.assign(compare1 = val_1st)"
      ],
      "metadata": {
        "id": "LnJ3mgeVkuWY"
      },
      "execution_count": null,
      "outputs": []
    },
    {
      "cell_type": "code",
      "source": [
        "df2"
      ],
      "metadata": {
        "colab": {
          "base_uri": "https://localhost:8080/",
          "height": 1192
        },
        "id": "FZHdqGV7kvsu",
        "outputId": "b6aa8084-812a-4bf1-ac8b-e026fea38f08"
      },
      "execution_count": null,
      "outputs": [
        {
          "output_type": "execute_result",
          "data": {
            "text/html": [
              "\n",
              "  <div id=\"df-71786cd3-dfb6-42be-8d89-b17970f2ff7c\">\n",
              "    <div class=\"colab-df-container\">\n",
              "      <div>\n",
              "<style scoped>\n",
              "    .dataframe tbody tr th:only-of-type {\n",
              "        vertical-align: middle;\n",
              "    }\n",
              "\n",
              "    .dataframe tbody tr th {\n",
              "        vertical-align: top;\n",
              "    }\n",
              "\n",
              "    .dataframe thead th {\n",
              "        text-align: right;\n",
              "    }\n",
              "</style>\n",
              "<table border=\"1\" class=\"dataframe\">\n",
              "  <thead>\n",
              "    <tr style=\"text-align: right;\">\n",
              "      <th></th>\n",
              "      <th>파일명</th>\n",
              "      <th>책제목</th>\n",
              "      <th>result</th>\n",
              "      <th>compare1</th>\n",
              "    </tr>\n",
              "  </thead>\n",
              "  <tbody>\n",
              "    <tr>\n",
              "      <th>0</th>\n",
              "      <td>test_title1.jpg</td>\n",
              "      <td>세월이가면</td>\n",
              "      <td>세월이가면</td>\n",
              "      <td>100%</td>\n",
              "    </tr>\n",
              "    <tr>\n",
              "      <th>1</th>\n",
              "      <td>test_title2.jpg</td>\n",
              "      <td>님의침묵</td>\n",
              "      <td>님의침묵</td>\n",
              "      <td>100%</td>\n",
              "    </tr>\n",
              "    <tr>\n",
              "      <th>2</th>\n",
              "      <td>test_title3.jpg</td>\n",
              "      <td>먼후일</td>\n",
              "      <td>먼후일</td>\n",
              "      <td>100%</td>\n",
              "    </tr>\n",
              "    <tr>\n",
              "      <th>3</th>\n",
              "      <td>test_title4.jpg</td>\n",
              "      <td>일리아스</td>\n",
              "      <td>일리아스</td>\n",
              "      <td>100%</td>\n",
              "    </tr>\n",
              "    <tr>\n",
              "      <th>4</th>\n",
              "      <td>test_title5.jpg</td>\n",
              "      <td>모모</td>\n",
              "      <td>모모</td>\n",
              "      <td>100%</td>\n",
              "    </tr>\n",
              "    <tr>\n",
              "      <th>...</th>\n",
              "      <td>...</td>\n",
              "      <td>...</td>\n",
              "      <td>...</td>\n",
              "      <td>...</td>\n",
              "    </tr>\n",
              "    <tr>\n",
              "      <th>95</th>\n",
              "      <td>test_title96.jpg</td>\n",
              "      <td>수학세계사를만나다</td>\n",
              "      <td>수학세계사를만나다</td>\n",
              "      <td>100%</td>\n",
              "    </tr>\n",
              "    <tr>\n",
              "      <th>96</th>\n",
              "      <td>test_title97.jpg</td>\n",
              "      <td>알고리즘인생을계산하다</td>\n",
              "      <td>알고리즘인생을계산하다</td>\n",
              "      <td>100%</td>\n",
              "    </tr>\n",
              "    <tr>\n",
              "      <th>97</th>\n",
              "      <td>test_title98.jpg</td>\n",
              "      <td>사회적원자</td>\n",
              "      <td>사회적원자</td>\n",
              "      <td>100%</td>\n",
              "    </tr>\n",
              "    <tr>\n",
              "      <th>98</th>\n",
              "      <td>test_title99.jpg</td>\n",
              "      <td>우리는왜개는사랑하고돼지는먹고소는신을까</td>\n",
              "      <td>우리는왜개는사랑하고돼지는먹고소는신을까</td>\n",
              "      <td>100%</td>\n",
              "    </tr>\n",
              "    <tr>\n",
              "      <th>99</th>\n",
              "      <td>test_title100.jpg</td>\n",
              "      <td>세바퀴로가는과학자전거</td>\n",
              "      <td>세비퀴로가는과학자전거</td>\n",
              "      <td>False</td>\n",
              "    </tr>\n",
              "  </tbody>\n",
              "</table>\n",
              "<p>100 rows × 4 columns</p>\n",
              "</div>\n",
              "      <button class=\"colab-df-convert\" onclick=\"convertToInteractive('df-71786cd3-dfb6-42be-8d89-b17970f2ff7c')\"\n",
              "              title=\"Convert this dataframe to an interactive table.\"\n",
              "              style=\"display:none;\">\n",
              "        \n",
              "  <svg xmlns=\"http://www.w3.org/2000/svg\" height=\"24px\"viewBox=\"0 0 24 24\"\n",
              "       width=\"24px\">\n",
              "    <path d=\"M0 0h24v24H0V0z\" fill=\"none\"/>\n",
              "    <path d=\"M18.56 5.44l.94 2.06.94-2.06 2.06-.94-2.06-.94-.94-2.06-.94 2.06-2.06.94zm-11 1L8.5 8.5l.94-2.06 2.06-.94-2.06-.94L8.5 2.5l-.94 2.06-2.06.94zm10 10l.94 2.06.94-2.06 2.06-.94-2.06-.94-.94-2.06-.94 2.06-2.06.94z\"/><path d=\"M17.41 7.96l-1.37-1.37c-.4-.4-.92-.59-1.43-.59-.52 0-1.04.2-1.43.59L10.3 9.45l-7.72 7.72c-.78.78-.78 2.05 0 2.83L4 21.41c.39.39.9.59 1.41.59.51 0 1.02-.2 1.41-.59l7.78-7.78 2.81-2.81c.8-.78.8-2.07 0-2.86zM5.41 20L4 18.59l7.72-7.72 1.47 1.35L5.41 20z\"/>\n",
              "  </svg>\n",
              "      </button>\n",
              "      \n",
              "  <style>\n",
              "    .colab-df-container {\n",
              "      display:flex;\n",
              "      flex-wrap:wrap;\n",
              "      gap: 12px;\n",
              "    }\n",
              "\n",
              "    .colab-df-convert {\n",
              "      background-color: #E8F0FE;\n",
              "      border: none;\n",
              "      border-radius: 50%;\n",
              "      cursor: pointer;\n",
              "      display: none;\n",
              "      fill: #1967D2;\n",
              "      height: 32px;\n",
              "      padding: 0 0 0 0;\n",
              "      width: 32px;\n",
              "    }\n",
              "\n",
              "    .colab-df-convert:hover {\n",
              "      background-color: #E2EBFA;\n",
              "      box-shadow: 0px 1px 2px rgba(60, 64, 67, 0.3), 0px 1px 3px 1px rgba(60, 64, 67, 0.15);\n",
              "      fill: #174EA6;\n",
              "    }\n",
              "\n",
              "    [theme=dark] .colab-df-convert {\n",
              "      background-color: #3B4455;\n",
              "      fill: #D2E3FC;\n",
              "    }\n",
              "\n",
              "    [theme=dark] .colab-df-convert:hover {\n",
              "      background-color: #434B5C;\n",
              "      box-shadow: 0px 1px 3px 1px rgba(0, 0, 0, 0.15);\n",
              "      filter: drop-shadow(0px 1px 2px rgba(0, 0, 0, 0.3));\n",
              "      fill: #FFFFFF;\n",
              "    }\n",
              "  </style>\n",
              "\n",
              "      <script>\n",
              "        const buttonEl =\n",
              "          document.querySelector('#df-71786cd3-dfb6-42be-8d89-b17970f2ff7c button.colab-df-convert');\n",
              "        buttonEl.style.display =\n",
              "          google.colab.kernel.accessAllowed ? 'block' : 'none';\n",
              "\n",
              "        async function convertToInteractive(key) {\n",
              "          const element = document.querySelector('#df-71786cd3-dfb6-42be-8d89-b17970f2ff7c');\n",
              "          const dataTable =\n",
              "            await google.colab.kernel.invokeFunction('convertToInteractive',\n",
              "                                                     [key], {});\n",
              "          if (!dataTable) return;\n",
              "\n",
              "          const docLinkHtml = 'Like what you see? Visit the ' +\n",
              "            '<a target=\"_blank\" href=https://colab.research.google.com/notebooks/data_table.ipynb>data table notebook</a>'\n",
              "            + ' to learn more about interactive tables.';\n",
              "          element.innerHTML = '';\n",
              "          dataTable['output_type'] = 'display_data';\n",
              "          await google.colab.output.renderOutput(dataTable, element);\n",
              "          const docLink = document.createElement('div');\n",
              "          docLink.innerHTML = docLinkHtml;\n",
              "          element.appendChild(docLink);\n",
              "        }\n",
              "      </script>\n",
              "    </div>\n",
              "  </div>\n",
              "  "
            ],
            "text/plain": [
              "                  파일명                   책제목                result compare1\n",
              "0     test_title1.jpg                 세월이가면                 세월이가면     100%\n",
              "1     test_title2.jpg                  님의침묵                  님의침묵     100%\n",
              "2     test_title3.jpg                   먼후일                   먼후일     100%\n",
              "3     test_title4.jpg                  일리아스                  일리아스     100%\n",
              "4     test_title5.jpg                    모모                    모모     100%\n",
              "..                ...                   ...                   ...      ...\n",
              "95   test_title96.jpg             수학세계사를만나다             수학세계사를만나다     100%\n",
              "96   test_title97.jpg           알고리즘인생을계산하다           알고리즘인생을계산하다     100%\n",
              "97   test_title98.jpg                 사회적원자                 사회적원자     100%\n",
              "98   test_title99.jpg  우리는왜개는사랑하고돼지는먹고소는신을까  우리는왜개는사랑하고돼지는먹고소는신을까     100%\n",
              "99  test_title100.jpg           세바퀴로가는과학자전거           세비퀴로가는과학자전거    False\n",
              "\n",
              "[100 rows x 4 columns]"
            ]
          },
          "metadata": {},
          "execution_count": 77
        }
      ]
    },
    {
      "cell_type": "code",
      "source": [
        "df2['compare1'].value_counts()"
      ],
      "metadata": {
        "colab": {
          "base_uri": "https://localhost:8080/"
        },
        "id": "jGfsyBTolFhV",
        "outputId": "7be609cf-5eed-471a-efbb-f70c77a798ef"
      },
      "execution_count": null,
      "outputs": [
        {
          "output_type": "execute_result",
          "data": {
            "text/plain": [
              "100%     75\n",
              "False    24\n",
              "0%        1\n",
              "Name: compare1, dtype: int64"
            ]
          },
          "metadata": {},
          "execution_count": 79
        }
      ]
    },
    {
      "cell_type": "markdown",
      "source": [
        "## 유진님 결과"
      ],
      "metadata": {
        "id": "tA5C9n7rno_G"
      }
    },
    {
      "cell_type": "code",
      "source": [
        "def detect_text(path): # file path로 받아오는 거 주의 !!\n",
        "    \"\"\"Detects text in the file.\"\"\"\n",
        "    from google.cloud import vision\n",
        "    import io\n",
        "    client = vision.ImageAnnotatorClient()\n",
        "\n",
        "    with io.open(path, 'rb') as image_file:\n",
        "        content = image_file.read()\n",
        "        \n",
        "    image = vision.Image(content=content)\n",
        "\n",
        "    response = client.text_detection(image=image)\n",
        "    texts = response.text_annotations\n",
        "    \n",
        "    # 제목을 한 문장으로 추출할 수 있도록 코드 수정 (공백 제거)\n",
        "    result = ''\n",
        "    for idx, text in enumerate(texts):\n",
        "        if idx > 0: result += text.description \n",
        "    return result\n",
        "\n",
        "    if response.error.message:\n",
        "        raise Exception(\n",
        "            '{}\\nFor more info on error messages, check: '\n",
        "            'https://cloud.google.com/apis/design/errors'.format(\n",
        "                response.error.message))"
      ],
      "metadata": {
        "id": "7iLBIBi3mCLq"
      },
      "execution_count": null,
      "outputs": []
    },
    {
      "cell_type": "code",
      "source": [
        "result_list2 = []\n",
        "img_dir = '/content/drive/MyDrive/aiffel_hackathon3/yujin2/'\n",
        "for i in range(100):\n",
        "    paths = img_dir + f'gray_image_{i}.jpg'\n",
        "    # print(f'{i} 번째 책:')\n",
        "    # print(detect_text(paths))\n",
        "    # print('='*30)\n",
        "    result_list2.append(detect_text(paths)) # 데이터 프레임화를 위한 리스트"
      ],
      "metadata": {
        "id": "A2JVdJvEmCJN"
      },
      "execution_count": null,
      "outputs": []
    },
    {
      "cell_type": "code",
      "source": [
        "import pandas as pd\n",
        "# 정량 평가를 위한 테스트 데이터 라벨 csv 파일 불러오기\n",
        "df = pd.read_csv('/content/drive/MyDrive/aiffel_hackathon3/test_dataset3_title.csv', encoding = 'UTF-8')\n",
        "\n",
        "# 테스트 데이터 라벨과 예측값 합치기\n",
        "df = df.assign(result = result_list2)"
      ],
      "metadata": {
        "id": "-hSU9zk9noB7"
      },
      "execution_count": null,
      "outputs": []
    },
    {
      "cell_type": "code",
      "source": [
        "for idx, sentence in enumerate(df['책제목']):\n",
        "    df['책제목'][idx] = preprocess_sentence(sentence)\n",
        "for idx, sentence in enumerate(df['result']):\n",
        "    df['result'][idx] = preprocess_sentence(sentence)\n",
        "\n",
        "# 라벨링 잘못된 데이터 수정\n",
        "df['책제목'][52] = '지금여기의페미니즘×민주주의'\n",
        "\n",
        "# 라벨, 예측값 비교 (성능 검증)\n",
        "val_1st = []\n",
        "for i in range(100):\n",
        "    if df['result'][i] == '':\n",
        "        val_1st.append('0%')\n",
        "    elif df['책제목'][i] == df['result'][i]:\n",
        "        val_1st.append('100%')\n",
        "    else:\n",
        "        val_1st.append('False')"
      ],
      "metadata": {
        "id": "34lMiwlqoIVM"
      },
      "execution_count": null,
      "outputs": []
    },
    {
      "cell_type": "code",
      "source": [
        "df3 = df.assign(compare1 = val_1st)\n",
        "df3"
      ],
      "metadata": {
        "colab": {
          "base_uri": "https://localhost:8080/",
          "height": 654
        },
        "id": "6LdvjYMLoba4",
        "outputId": "d8bbff8a-fd94-400e-b808-32081ce6ba67"
      },
      "execution_count": null,
      "outputs": [
        {
          "output_type": "execute_result",
          "data": {
            "text/html": [
              "\n",
              "  <div id=\"df-ebf2c969-a9c6-492c-b949-b69eb92f8a42\">\n",
              "    <div class=\"colab-df-container\">\n",
              "      <div>\n",
              "<style scoped>\n",
              "    .dataframe tbody tr th:only-of-type {\n",
              "        vertical-align: middle;\n",
              "    }\n",
              "\n",
              "    .dataframe tbody tr th {\n",
              "        vertical-align: top;\n",
              "    }\n",
              "\n",
              "    .dataframe thead th {\n",
              "        text-align: right;\n",
              "    }\n",
              "</style>\n",
              "<table border=\"1\" class=\"dataframe\">\n",
              "  <thead>\n",
              "    <tr style=\"text-align: right;\">\n",
              "      <th></th>\n",
              "      <th>파일명</th>\n",
              "      <th>책제목</th>\n",
              "      <th>result</th>\n",
              "      <th>compare1</th>\n",
              "    </tr>\n",
              "  </thead>\n",
              "  <tbody>\n",
              "    <tr>\n",
              "      <th>0</th>\n",
              "      <td>test_title1.jpg</td>\n",
              "      <td>세월이가면</td>\n",
              "      <td>세월이가면</td>\n",
              "      <td>100%</td>\n",
              "    </tr>\n",
              "    <tr>\n",
              "      <th>1</th>\n",
              "      <td>test_title2.jpg</td>\n",
              "      <td>님의침묵</td>\n",
              "      <td>님의침묵</td>\n",
              "      <td>100%</td>\n",
              "    </tr>\n",
              "    <tr>\n",
              "      <th>2</th>\n",
              "      <td>test_title3.jpg</td>\n",
              "      <td>먼후일</td>\n",
              "      <td>먼후일</td>\n",
              "      <td>100%</td>\n",
              "    </tr>\n",
              "    <tr>\n",
              "      <th>3</th>\n",
              "      <td>test_title4.jpg</td>\n",
              "      <td>일리아스</td>\n",
              "      <td>아</td>\n",
              "      <td>False</td>\n",
              "    </tr>\n",
              "    <tr>\n",
              "      <th>4</th>\n",
              "      <td>test_title5.jpg</td>\n",
              "      <td>모모</td>\n",
              "      <td>모모</td>\n",
              "      <td>100%</td>\n",
              "    </tr>\n",
              "    <tr>\n",
              "      <th>...</th>\n",
              "      <td>...</td>\n",
              "      <td>...</td>\n",
              "      <td>...</td>\n",
              "      <td>...</td>\n",
              "    </tr>\n",
              "    <tr>\n",
              "      <th>95</th>\n",
              "      <td>test_title96.jpg</td>\n",
              "      <td>수학세계사를만나다</td>\n",
              "      <td>수학세계사를만나다</td>\n",
              "      <td>100%</td>\n",
              "    </tr>\n",
              "    <tr>\n",
              "      <th>96</th>\n",
              "      <td>test_title97.jpg</td>\n",
              "      <td>알고리즘인생을계산하다</td>\n",
              "      <td>알고리즘인생을계산하다</td>\n",
              "      <td>100%</td>\n",
              "    </tr>\n",
              "    <tr>\n",
              "      <th>97</th>\n",
              "      <td>test_title98.jpg</td>\n",
              "      <td>사회적원자</td>\n",
              "      <td>사회적원자</td>\n",
              "      <td>100%</td>\n",
              "    </tr>\n",
              "    <tr>\n",
              "      <th>98</th>\n",
              "      <td>test_title99.jpg</td>\n",
              "      <td>우리는왜개는사랑하고돼지는먹고소는신을까</td>\n",
              "      <td>우리는왜개는사랑하고돼지는먹고소는신을까</td>\n",
              "      <td>100%</td>\n",
              "    </tr>\n",
              "    <tr>\n",
              "      <th>99</th>\n",
              "      <td>test_title100.jpg</td>\n",
              "      <td>세바퀴로가는과학자전거</td>\n",
              "      <td>세비퀴로기는과학자전거</td>\n",
              "      <td>False</td>\n",
              "    </tr>\n",
              "  </tbody>\n",
              "</table>\n",
              "<p>100 rows × 4 columns</p>\n",
              "</div>\n",
              "      <button class=\"colab-df-convert\" onclick=\"convertToInteractive('df-ebf2c969-a9c6-492c-b949-b69eb92f8a42')\"\n",
              "              title=\"Convert this dataframe to an interactive table.\"\n",
              "              style=\"display:none;\">\n",
              "        \n",
              "  <svg xmlns=\"http://www.w3.org/2000/svg\" height=\"24px\"viewBox=\"0 0 24 24\"\n",
              "       width=\"24px\">\n",
              "    <path d=\"M0 0h24v24H0V0z\" fill=\"none\"/>\n",
              "    <path d=\"M18.56 5.44l.94 2.06.94-2.06 2.06-.94-2.06-.94-.94-2.06-.94 2.06-2.06.94zm-11 1L8.5 8.5l.94-2.06 2.06-.94-2.06-.94L8.5 2.5l-.94 2.06-2.06.94zm10 10l.94 2.06.94-2.06 2.06-.94-2.06-.94-.94-2.06-.94 2.06-2.06.94z\"/><path d=\"M17.41 7.96l-1.37-1.37c-.4-.4-.92-.59-1.43-.59-.52 0-1.04.2-1.43.59L10.3 9.45l-7.72 7.72c-.78.78-.78 2.05 0 2.83L4 21.41c.39.39.9.59 1.41.59.51 0 1.02-.2 1.41-.59l7.78-7.78 2.81-2.81c.8-.78.8-2.07 0-2.86zM5.41 20L4 18.59l7.72-7.72 1.47 1.35L5.41 20z\"/>\n",
              "  </svg>\n",
              "      </button>\n",
              "      \n",
              "  <style>\n",
              "    .colab-df-container {\n",
              "      display:flex;\n",
              "      flex-wrap:wrap;\n",
              "      gap: 12px;\n",
              "    }\n",
              "\n",
              "    .colab-df-convert {\n",
              "      background-color: #E8F0FE;\n",
              "      border: none;\n",
              "      border-radius: 50%;\n",
              "      cursor: pointer;\n",
              "      display: none;\n",
              "      fill: #1967D2;\n",
              "      height: 32px;\n",
              "      padding: 0 0 0 0;\n",
              "      width: 32px;\n",
              "    }\n",
              "\n",
              "    .colab-df-convert:hover {\n",
              "      background-color: #E2EBFA;\n",
              "      box-shadow: 0px 1px 2px rgba(60, 64, 67, 0.3), 0px 1px 3px 1px rgba(60, 64, 67, 0.15);\n",
              "      fill: #174EA6;\n",
              "    }\n",
              "\n",
              "    [theme=dark] .colab-df-convert {\n",
              "      background-color: #3B4455;\n",
              "      fill: #D2E3FC;\n",
              "    }\n",
              "\n",
              "    [theme=dark] .colab-df-convert:hover {\n",
              "      background-color: #434B5C;\n",
              "      box-shadow: 0px 1px 3px 1px rgba(0, 0, 0, 0.15);\n",
              "      filter: drop-shadow(0px 1px 2px rgba(0, 0, 0, 0.3));\n",
              "      fill: #FFFFFF;\n",
              "    }\n",
              "  </style>\n",
              "\n",
              "      <script>\n",
              "        const buttonEl =\n",
              "          document.querySelector('#df-ebf2c969-a9c6-492c-b949-b69eb92f8a42 button.colab-df-convert');\n",
              "        buttonEl.style.display =\n",
              "          google.colab.kernel.accessAllowed ? 'block' : 'none';\n",
              "\n",
              "        async function convertToInteractive(key) {\n",
              "          const element = document.querySelector('#df-ebf2c969-a9c6-492c-b949-b69eb92f8a42');\n",
              "          const dataTable =\n",
              "            await google.colab.kernel.invokeFunction('convertToInteractive',\n",
              "                                                     [key], {});\n",
              "          if (!dataTable) return;\n",
              "\n",
              "          const docLinkHtml = 'Like what you see? Visit the ' +\n",
              "            '<a target=\"_blank\" href=https://colab.research.google.com/notebooks/data_table.ipynb>data table notebook</a>'\n",
              "            + ' to learn more about interactive tables.';\n",
              "          element.innerHTML = '';\n",
              "          dataTable['output_type'] = 'display_data';\n",
              "          await google.colab.output.renderOutput(dataTable, element);\n",
              "          const docLink = document.createElement('div');\n",
              "          docLink.innerHTML = docLinkHtml;\n",
              "          element.appendChild(docLink);\n",
              "        }\n",
              "      </script>\n",
              "    </div>\n",
              "  </div>\n",
              "  "
            ],
            "text/plain": [
              "                  파일명                   책제목                result compare1\n",
              "0     test_title1.jpg                 세월이가면                 세월이가면     100%\n",
              "1     test_title2.jpg                  님의침묵                  님의침묵     100%\n",
              "2     test_title3.jpg                   먼후일                   먼후일     100%\n",
              "3     test_title4.jpg                  일리아스                     아    False\n",
              "4     test_title5.jpg                    모모                    모모     100%\n",
              "..                ...                   ...                   ...      ...\n",
              "95   test_title96.jpg             수학세계사를만나다             수학세계사를만나다     100%\n",
              "96   test_title97.jpg           알고리즘인생을계산하다           알고리즘인생을계산하다     100%\n",
              "97   test_title98.jpg                 사회적원자                 사회적원자     100%\n",
              "98   test_title99.jpg  우리는왜개는사랑하고돼지는먹고소는신을까  우리는왜개는사랑하고돼지는먹고소는신을까     100%\n",
              "99  test_title100.jpg           세바퀴로가는과학자전거           세비퀴로기는과학자전거    False\n",
              "\n",
              "[100 rows x 4 columns]"
            ]
          },
          "metadata": {},
          "execution_count": 97
        }
      ]
    },
    {
      "cell_type": "code",
      "source": [
        "df3['compare1'].value_counts()"
      ],
      "metadata": {
        "colab": {
          "base_uri": "https://localhost:8080/"
        },
        "id": "wzulP9pHoidd",
        "outputId": "d3fe31c9-9e8b-485a-b6b9-159e7e29b6a9"
      },
      "execution_count": null,
      "outputs": [
        {
          "output_type": "execute_result",
          "data": {
            "text/plain": [
              "100%     69\n",
              "False    29\n",
              "0%        2\n",
              "Name: compare1, dtype: int64"
            ]
          },
          "metadata": {},
          "execution_count": 98
        }
      ]
    }
  ]
}