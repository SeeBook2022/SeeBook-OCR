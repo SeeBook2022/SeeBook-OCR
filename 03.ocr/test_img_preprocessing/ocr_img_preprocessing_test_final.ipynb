{
  "nbformat": 4,
  "nbformat_minor": 0,
  "metadata": {
    "colab": {
      "name": "ocr_img_preprocessing_test_final.ipynb",
      "provenance": [],
      "collapsed_sections": [
        "l5uh4ocLpn0e",
        "fSAVIEdlkSTj",
        "96pC50O_o1Ls",
        "PNYj6Dbwo8ji"
      ],
      "authorship_tag": "ABX9TyMg5tXCuqrU+3fFEs+/iFQF",
      "include_colab_link": true
    },
    "kernelspec": {
      "name": "python3",
      "display_name": "Python 3"
    },
    "language_info": {
      "name": "python"
    },
    "accelerator": "GPU"
  },
  "cells": [
    {
      "cell_type": "markdown",
      "metadata": {
        "id": "view-in-github",
        "colab_type": "text"
      },
      "source": [
        "<a href=\"https://colab.research.google.com/github/SeeBook2022/SeeBook-OCR/blob/main/03.ocr/test_img_preprocessing/ocr_img_preprocessing_test_final.ipynb\" target=\"_parent\"><img src=\"https://colab.research.google.com/assets/colab-badge.svg\" alt=\"Open In Colab\"/></a>"
      ]
    },
    {
      "cell_type": "markdown",
      "source": [
        "## 환경 설정\n"
      ],
      "metadata": {
        "id": "l5uh4ocLpn0e"
      }
    },
    {
      "cell_type": "code",
      "execution_count": null,
      "metadata": {
        "id": "xbPduN2-pkmr",
        "colab": {
          "base_uri": "https://localhost:8080/"
        },
        "outputId": "1104743d-ee51-40f0-c84c-47e4519e12b6"
      },
      "outputs": [
        {
          "output_type": "stream",
          "name": "stdout",
          "text": [
            "Drive already mounted at /content/drive; to attempt to forcibly remount, call drive.mount(\"/content/drive\", force_remount=True).\n"
          ]
        }
      ],
      "source": [
        "from google.colab import drive\n",
        "drive.mount('/content/drive')"
      ]
    },
    {
      "cell_type": "code",
      "source": [
        "%pip install --upgrade google-api-python-client"
      ],
      "metadata": {
        "id": "17pJUtPxpxG-"
      },
      "execution_count": null,
      "outputs": []
    },
    {
      "cell_type": "code",
      "source": [
        "%pip install google-cloud-vision"
      ],
      "metadata": {
        "id": "fA2xqHQbpxNm"
      },
      "execution_count": null,
      "outputs": []
    },
    {
      "cell_type": "code",
      "source": [
        "import os\n",
        "import pandas as pd"
      ],
      "metadata": {
        "id": "fYmJvj1lpxQ6"
      },
      "execution_count": null,
      "outputs": []
    },
    {
      "cell_type": "code",
      "source": [
        "!ls -l $GOOGLE_APPLICATION_CREDENTIALS\n",
        "os.environ[\"GOOGLE_APPLICATION_CREDENTIALS\"] =  '/content/drive/MyDrive/aiffel_hackathon3/google_api_key/my_google_api_key.json'"
      ],
      "metadata": {
        "id": "qq681lsHpxTR",
        "colab": {
          "base_uri": "https://localhost:8080/"
        },
        "outputId": "a461a4aa-aae4-431d-b4e9-0c0bf5cab4f8"
      },
      "execution_count": null,
      "outputs": [
        {
          "output_type": "stream",
          "name": "stdout",
          "text": [
            "total 8\n",
            "drwx------ 6 root root 4096 Feb 28 05:50 drive\n",
            "drwxr-xr-x 1 root root 4096 Feb 18 14:33 sample_data\n"
          ]
        }
      ]
    },
    {
      "cell_type": "markdown",
      "source": [
        "### 새로운 데이터 파일명 수정"
      ],
      "metadata": {
        "id": "MZbx-U-UvuFD"
      }
    },
    {
      "cell_type": "code",
      "source": [
        "def change_name(file_path, file_list):\n",
        "    for idx, filename in enumerate(file_list):\n",
        "        os.rename(file_path + filename, file_path + 'test_title' + str(idx+1) +'.jpg')"
      ],
      "metadata": {
        "id": "TCAoTDJet8w2"
      },
      "execution_count": null,
      "outputs": []
    },
    {
      "cell_type": "code",
      "source": [
        "img_dir = '/content/drive/MyDrive/aiffel_hackathon3/OCR_test_ver3/test_dataset3_ver3/'\n",
        "file_list = os.listdir(img_dir)\n",
        "file_list.sort(key = lambda x : int(x[10:-4]))"
      ],
      "metadata": {
        "id": "wRw5SvaNtCWt"
      },
      "execution_count": null,
      "outputs": []
    },
    {
      "cell_type": "code",
      "source": [
        "change_name(img_dir, file_list)"
      ],
      "metadata": {
        "id": "bSSqYMOhtMFE"
      },
      "execution_count": null,
      "outputs": []
    },
    {
      "cell_type": "markdown",
      "source": [
        "### 텍스트 처리, csv 파일 준비\n"
      ],
      "metadata": {
        "id": "YKz7MxZ6xA1B"
      }
    },
    {
      "cell_type": "code",
      "source": [
        "# 후처리 함수 (특수문자 및 공백 제거)\n",
        "def preprocess_sentence(sentence):\n",
        "    import re\n",
        "    sentence = re.sub('[-=+,「」#/\\?:^$.@*\\\"※~&%ㆍ•!『』\\\\‘|\\(\\)\\[\\]\\<\\>`\\'…》]','', sentence)\n",
        "    sentence = sentence.replace(' ', '') # 공백 제거\n",
        "    # sentence = sentence.strip()\n",
        "    return sentence"
      ],
      "metadata": {
        "id": "Ly9j8Ymhw_9L"
      },
      "execution_count": null,
      "outputs": []
    },
    {
      "cell_type": "code",
      "source": [
        "test_sentence = '안녕하 세요. 반갑습~니다!0101234a?b,長'\n",
        "print(preprocess_sentence(test_sentence))"
      ],
      "metadata": {
        "colab": {
          "base_uri": "https://localhost:8080/"
        },
        "id": "aI1OdDrDxjh8",
        "outputId": "ae7982ed-ed45-4d62-d0e8-a793a76c44fe"
      },
      "execution_count": null,
      "outputs": [
        {
          "output_type": "stream",
          "name": "stdout",
          "text": [
            "안녕하세요반갑습니다0101234ab長\n"
          ]
        }
      ]
    },
    {
      "cell_type": "code",
      "source": [
        "import math\n",
        "import time\n",
        "start = time.time()\n",
        "test_sentence = '안녕하 세요. 반갑습~니다!0101234a?b,長'\n",
        "preprocess_sentence(test_sentence)\n",
        "end = time.time()\n",
        "print(f\"{end - start:.5f} sec\")"
      ],
      "metadata": {
        "colab": {
          "base_uri": "https://localhost:8080/"
        },
        "id": "sWd3nO5AIyDG",
        "outputId": "26c77380-1d6b-4e12-e72c-cc62da5d0b31"
      },
      "execution_count": null,
      "outputs": [
        {
          "output_type": "stream",
          "name": "stdout",
          "text": [
            "0.00008 sec\n"
          ]
        }
      ]
    },
    {
      "cell_type": "code",
      "source": [
        "# 정량 평가를 위한 테스트 데이터 라벨 csv 파일 불러오기\n",
        "compare_df = pd.read_csv('/content/drive/MyDrive/aiffel_hackathon3/OCR_test_ver3/test_dataset3_ver3.csv', encoding = 'UTF-8')"
      ],
      "metadata": {
        "id": "yJSusM7KxqtP"
      },
      "execution_count": null,
      "outputs": []
    },
    {
      "cell_type": "code",
      "source": [
        "for idx, sentence in enumerate(compare_df['책제목']):\n",
        "    compare_df['책제목'][idx] = preprocess_sentence(sentence)"
      ],
      "metadata": {
        "id": "B4B-aT49yGEc"
      },
      "execution_count": null,
      "outputs": []
    },
    {
      "cell_type": "code",
      "source": [
        "# 정량 평가를 위한 테스트 데이터 라벨 csv 파일 불러오기2\n",
        "compare_df2 = pd.read_csv('/content/drive/MyDrive/aiffel_hackathon3/OCR_test_ver3/ocr_test_ver3_result2.csv', encoding = 'UTF-8')"
      ],
      "metadata": {
        "id": "AMVILqm0dK9V"
      },
      "execution_count": null,
      "outputs": []
    },
    {
      "cell_type": "markdown",
      "source": [
        "## google vision api (baseline)"
      ],
      "metadata": {
        "id": "EPhw7A94qRXg"
      }
    },
    {
      "cell_type": "code",
      "source": [
        "def detect_text(path): \n",
        "    \"\"\"Detects text in the file.\"\"\"\n",
        "    from google.cloud import vision\n",
        "    import io\n",
        "    client = vision.ImageAnnotatorClient()\n",
        "\n",
        "    with io.open(path, 'rb') as image_file:\n",
        "        content = image_file.read()\n",
        "        \n",
        "    image = vision.Image(content=content)\n",
        "\n",
        "    response = client.text_detection(image=image)\n",
        "    texts = response.text_annotations\n",
        "    \n",
        "    result = ''\n",
        "    for idx, text in enumerate(texts):\n",
        "        if idx > 0: result += text.description \n",
        "    return result\n",
        "\n",
        "    if response.error.message:\n",
        "        raise Exception(\n",
        "            '{}\\nFor more info on error messages, check: '\n",
        "            'https://cloud.google.com/apis/design/errors'.format(\n",
        "                response.error.message))"
      ],
      "metadata": {
        "id": "vaaEdDzvpxWC"
      },
      "execution_count": null,
      "outputs": []
    },
    {
      "cell_type": "code",
      "source": [
        "img_dir = '/content/drive/MyDrive/aiffel_hackathon3/OCR_test_ver3/test_dataset3_ver3/'\n",
        "file_list = os.listdir(img_dir)\n",
        "file_list.sort(key = lambda x : int(x[10:-4]))"
      ],
      "metadata": {
        "id": "HvT07sytwEYK"
      },
      "execution_count": null,
      "outputs": []
    },
    {
      "cell_type": "code",
      "source": [
        "# 시간 측정(10장 기준+텍스트 처리 + 리스트 저장)\n",
        "import math\n",
        "import time\n",
        "start = time.time()\n",
        "test = []\n",
        "for i in range(10):\n",
        "    paths = img_dir + file_list[i]\n",
        "    test.append(preprocess_sentence(detect_text(paths)))\n",
        "end = time.time()\n",
        "print(f\"{end - start:.5f} sec\")\n",
        "print(test)"
      ],
      "metadata": {
        "colab": {
          "base_uri": "https://localhost:8080/"
        },
        "id": "0KR-3h8mq2JR",
        "outputId": "162a8bcd-9fd0-4d9a-df8a-7acf1e83cc4f"
      },
      "execution_count": null,
      "outputs": [
        {
          "output_type": "stream",
          "name": "stdout",
          "text": [
            "7.49846 sec\n",
            "['세월이가면', '님의침묵', '먼후일', '아', '모모', '친국의열쇠', '고난이선물이다', '오뒷세이아', '25시', '활']\n"
          ]
        }
      ]
    },
    {
      "cell_type": "code",
      "source": [
        "# 시간 측정(10장 기준+텍스트 처리 + 리스트 저장)\n",
        "import math\n",
        "import time\n",
        "start = time.time()\n",
        "detect_text(paths)\n",
        "end = time.time()\n",
        "print(f\"{end - start:.5f} sec\")\n",
        "print(test)"
      ],
      "metadata": {
        "colab": {
          "base_uri": "https://localhost:8080/"
        },
        "id": "STYCDohC4SxG",
        "outputId": "442e789d-1af9-4d9d-90d7-7ff770fcfadd"
      },
      "execution_count": null,
      "outputs": [
        {
          "output_type": "stream",
          "name": "stdout",
          "text": [
            "0.37260 sec\n",
            "['세월이가면', '님의침묵', '먼후일', '아', '모모', '친국의열쇠', '고난이선물이다', '오뒷세이아', '25시', '활']\n"
          ]
        }
      ]
    },
    {
      "cell_type": "code",
      "source": [
        ""
      ],
      "metadata": {
        "id": "8OxWP2z_4Szr"
      },
      "execution_count": null,
      "outputs": []
    },
    {
      "cell_type": "code",
      "source": [
        "result_list = []\n",
        "for i in range(380):\n",
        "    paths = img_dir + file_list[i]\n",
        "    result_list.append(preprocess_sentence(detect_text(paths)))"
      ],
      "metadata": {
        "id": "Rz1YL3YVqvN3"
      },
      "execution_count": null,
      "outputs": []
    },
    {
      "cell_type": "markdown",
      "source": [
        "## 이미지 처리 (ver.성연)"
      ],
      "metadata": {
        "id": "B_SJ0GTQykZ6"
      }
    },
    {
      "cell_type": "markdown",
      "source": [
        "### 이미지 처리"
      ],
      "metadata": {
        "id": "56fdAuAOyxsk"
      }
    },
    {
      "cell_type": "code",
      "source": [
        "img_dir = '/content/drive/MyDrive/aiffel_hackathon3/OCR_test_ver3/test_dataset3_ver3/'\n",
        "file_list = os.listdir(img_dir)\n",
        "file_list.sort(key = lambda x : int(x[10:-4]))"
      ],
      "metadata": {
        "id": "8cb2Xjfv4-Qi"
      },
      "execution_count": null,
      "outputs": []
    },
    {
      "cell_type": "code",
      "source": [
        "def detect_text2(img_bytes):\n",
        "    \"\"\"Detects text in the file.\"\"\"\n",
        "    from google.cloud import vision\n",
        "    import io\n",
        "    client = vision.ImageAnnotatorClient()\n",
        "\n",
        "    image = vision.Image(content=img_bytes) # byte로 받아서 바로 실행\n",
        "\n",
        "    response = client.text_detection(image=image)\n",
        "    texts = response.text_annotations\n",
        "    \n",
        "    result = ''\n",
        "    for idx, text in enumerate(texts):\n",
        "        if idx > 0: result += text.description \n",
        "    return result\n",
        "\n",
        "    if response.error.message:\n",
        "        raise Exception(\n",
        "            '{}\\nFor more info on error messages, check: '\n",
        "            'https://cloud.google.com/apis/design/errors'.format(\n",
        "                response.error.message))\n",
        "        \n",
        "def img2gray3(img):\n",
        "    img_gray = cv2.cvtColor(img, cv2.COLOR_BGR2GRAY) # 흑백 처리\n",
        "    img_resize = cv2.resize(img_gray, dsize=(0,0), fx = 1.5, fy= 1.5, interpolation=cv2.INTER_AREA) # resize(영역 보간)\n",
        "    add_dst = cv2.add(img_resize, 30) # 밝기 조절\n",
        "\n",
        "    img_bytes = cv2.imencode('.jpg', add_dst)[1].tobytes()\n",
        "\n",
        "    return img_bytes"
      ],
      "metadata": {
        "id": "4CUpJ8PI4sl5"
      },
      "execution_count": null,
      "outputs": []
    },
    {
      "cell_type": "code",
      "source": [
        "def img2gray(path):\n",
        "    import cv2\n",
        "    img = cv2.imread(path) # 이미지 불러오기\n",
        "    img_gray = cv2.cvtColor(img, cv2.COLOR_BGR2GRAY) # 흑백 처리\n",
        "    img_resize = cv2.resize(img_gray, dsize=(0,0), fx = 1.5, fy= 1.5, interpolation=cv2.INTER_AREA) # resize(영역 보간)\n",
        "    add_dst = cv2.add(img_resize, 30) # 밝기 조절\n",
        "\n",
        "    # img_bytes = base64.b64encode(cv2.imencode('.jpg', img)[1]).decode()\n",
        "    img_bytes = cv2.imencode('.jpg', add_dst)[1].tobytes()\n",
        "\n",
        "    return img_bytes"
      ],
      "metadata": {
        "id": "EcjQ_MYAwrKE"
      },
      "execution_count": null,
      "outputs": []
    },
    {
      "cell_type": "code",
      "source": [
        "import cv2\n",
        "img = cv2.imread(img_dir + file_list[0])"
      ],
      "metadata": {
        "id": "RU8QPfvJ4stv"
      },
      "execution_count": null,
      "outputs": []
    },
    {
      "cell_type": "code",
      "source": [
        "import math\n",
        "import time\n",
        "start = time.time()\n",
        "img2gray(img_dir+file_list[0])\n",
        "end = time.time()\n",
        "print(f\"{end - start:.5f} sec\")"
      ],
      "metadata": {
        "colab": {
          "base_uri": "https://localhost:8080/"
        },
        "id": "M62y2OcFIh3L",
        "outputId": "506b96da-8da9-4084-bba2-2bbebe4116ad"
      },
      "execution_count": null,
      "outputs": [
        {
          "output_type": "stream",
          "name": "stdout",
          "text": [
            "0.01299 sec\n"
          ]
        }
      ]
    },
    {
      "cell_type": "code",
      "source": [
        ""
      ],
      "metadata": {
        "id": "D7bS1FoDIo8r"
      },
      "execution_count": null,
      "outputs": []
    },
    {
      "cell_type": "code",
      "source": [
        "import math\n",
        "import time\n",
        "start = time.time()\n",
        "preprocess_sentence(detect_text2(img2gray3(img)))\n",
        "end = time.time()\n",
        "print(f\"{end - start:.5f} sec\")"
      ],
      "metadata": {
        "colab": {
          "base_uri": "https://localhost:8080/"
        },
        "id": "dOMPNJlU5VXS",
        "outputId": "7d7df6cb-4c73-4676-bbf2-014e77d416d4"
      },
      "execution_count": null,
      "outputs": [
        {
          "output_type": "stream",
          "name": "stdout",
          "text": [
            "0.68670 sec\n"
          ]
        }
      ]
    },
    {
      "cell_type": "code",
      "source": [
        "import math\n",
        "import time\n",
        "start = time.time()\n",
        "preprocess_sentence(detect_text2(img2gray(img_dir+file_list[0])))\n",
        "end = time.time()\n",
        "print(f\"{end - start:.5f} sec\")"
      ],
      "metadata": {
        "colab": {
          "base_uri": "https://localhost:8080/"
        },
        "id": "20kGXjUx6O-E",
        "outputId": "98b64f6c-5ad5-45c2-cc03-dc80290da46b"
      },
      "execution_count": null,
      "outputs": [
        {
          "output_type": "stream",
          "name": "stdout",
          "text": [
            "0.66059 sec\n"
          ]
        }
      ]
    },
    {
      "cell_type": "code",
      "source": [
        "def img2gray2(path):\n",
        "    import cv2\n",
        "    img = cv2.imread(path) # 이미지 불러오기\n",
        "    img_gray = cv2.cvtColor(img, cv2.COLOR_BGR2GRAY) # 흑백 처리\n",
        "    img_resize = cv2.resize(img_gray, dsize=(0,0), fx = 1.5, fy= 1.5, interpolation=cv2.INTER_CUBIC) # resize(바이큐빅 보간)\n",
        "    add_dst = cv2.add(img_resize, 30) # 밝기 조절\n",
        "\n",
        "    img_bytes = cv2.imencode('.jpg', add_dst)[1].tobytes()\n",
        "\n",
        "    return img_bytes"
      ],
      "metadata": {
        "id": "xOpwOEvwzc_p"
      },
      "execution_count": null,
      "outputs": []
    },
    {
      "cell_type": "markdown",
      "source": [
        "### OCR test"
      ],
      "metadata": {
        "id": "c2tV4Tzb0Ib-"
      }
    },
    {
      "cell_type": "code",
      "source": [
        "def detect_text2(img_bytes):\n",
        "    \"\"\"Detects text in the file.\"\"\"\n",
        "    from google.cloud import vision\n",
        "    import io\n",
        "    client = vision.ImageAnnotatorClient()\n",
        "\n",
        "    image = vision.Image(content=img_bytes) # byte로 받아서 바로 실행\n",
        "\n",
        "    response = client.text_detection(image=image)\n",
        "    texts = response.text_annotations\n",
        "    \n",
        "    result = ''\n",
        "    for idx, text in enumerate(texts):\n",
        "        if idx > 0: result += text.description \n",
        "    return result\n",
        "\n",
        "    if response.error.message:\n",
        "        raise Exception(\n",
        "            '{}\\nFor more info on error messages, check: '\n",
        "            'https://cloud.google.com/apis/design/errors'.format(\n",
        "                response.error.message))"
      ],
      "metadata": {
        "id": "AEU08A9H0H3K"
      },
      "execution_count": null,
      "outputs": []
    },
    {
      "cell_type": "code",
      "source": [
        "img_dir = '/content/drive/MyDrive/aiffel_hackathon3/OCR_test_ver3/test_dataset3_ver3/'\n",
        "file_list = os.listdir(img_dir)\n",
        "file_list.sort(key = lambda x : int(x[10:-4]))"
      ],
      "metadata": {
        "id": "azXGQQ_N0QQi"
      },
      "execution_count": null,
      "outputs": []
    },
    {
      "cell_type": "code",
      "source": [
        "# 시간 측정(10장 기준+ 이미지 처리 + 텍스트 처리 + 리스트 저장)\n",
        "import math\n",
        "import time\n",
        "start = time.time()\n",
        "test = []\n",
        "for i in range(10):\n",
        "    paths = img_dir + file_list[i]\n",
        "    test.append(preprocess_sentence(detect_text2(img2gray(paths))))\n",
        "end = time.time()\n",
        "print(f\"{end - start:.5f} sec\")\n",
        "print(test)"
      ],
      "metadata": {
        "colab": {
          "base_uri": "https://localhost:8080/"
        },
        "id": "yOC-Da3W0Upc",
        "outputId": "023aee39-7845-48d8-9ec6-0babd1fafe3a"
      },
      "execution_count": null,
      "outputs": [
        {
          "output_type": "stream",
          "name": "stdout",
          "text": [
            "7.37846 sec\n",
            "['세월이가면', '님의침묵', '먼후일', '일리아스', '모모', '천국의열쇠', '고난이선물이다', '오뒷세이아', '25시', '부활']\n"
          ]
        }
      ]
    },
    {
      "cell_type": "code",
      "source": [
        "result_list2 = []\n",
        "for i in range(380):\n",
        "    paths = img_dir + file_list[i]\n",
        "    result_list2.append(preprocess_sentence(detect_text2(img2gray(paths))))"
      ],
      "metadata": {
        "id": "xyOH3IsD0h4i"
      },
      "execution_count": null,
      "outputs": []
    },
    {
      "cell_type": "code",
      "source": [
        "# 시간 측정(10장 기준+ 이미지 처리2 + 텍스트 처리 + 리스트 저장)\n",
        "import math\n",
        "import time\n",
        "start = time.time()\n",
        "test = []\n",
        "for i in range(10):\n",
        "    paths = img_dir + file_list[i]\n",
        "    test.append(preprocess_sentence(detect_text2(img2gray2(paths))))\n",
        "end = time.time()\n",
        "print(f\"{end - start:.5f} sec\")\n",
        "print(test)"
      ],
      "metadata": {
        "colab": {
          "base_uri": "https://localhost:8080/"
        },
        "id": "btffSty41LqI",
        "outputId": "23e8b9eb-422e-40f6-b892-24b4e2dcad67"
      },
      "execution_count": null,
      "outputs": [
        {
          "output_type": "stream",
          "name": "stdout",
          "text": [
            "6.58873 sec\n",
            "['세월이가면', '님의침묵', '먼후일', '아일리。', '모모', '천국의열쇠', '고난이선물이다', '오뒷세이', '25시', '부활']\n"
          ]
        }
      ]
    },
    {
      "cell_type": "code",
      "source": [
        "result_list3 = []\n",
        "for i in range(380):\n",
        "    paths = img_dir + file_list[i]\n",
        "    result_list3.append(preprocess_sentence(detect_text2(img2gray2(paths))))"
      ],
      "metadata": {
        "id": "auW7yj-v1LtA"
      },
      "execution_count": null,
      "outputs": []
    },
    {
      "cell_type": "markdown",
      "source": [
        "## 이미지 처리 (ver.유진)"
      ],
      "metadata": {
        "id": "2YeGEslpWEi3"
      }
    },
    {
      "cell_type": "markdown",
      "source": [
        "### 이미지 처리"
      ],
      "metadata": {
        "id": "fSAVIEdlkSTj"
      }
    },
    {
      "cell_type": "code",
      "source": [
        "import cv2\n",
        "import os\n",
        "import pandas as pd\n",
        "import time\n",
        "import re\n",
        "import datetime\n",
        "import io\n",
        "import numpy as np"
      ],
      "metadata": {
        "id": "Lfz0ktIAYbUb"
      },
      "execution_count": null,
      "outputs": []
    },
    {
      "cell_type": "code",
      "source": [
        "def img_Contrast(path): \n",
        "    img = cv2.imread(path)\n",
        "    # -----Converting image to LAB Color model----------------------------------- \n",
        "    lab = cv2.cvtColor(img, cv2.COLOR_BGR2LAB) \n",
        "    \n",
        "    # -----Splitting the LAB image to different channels------------------------- \n",
        "    l, a, b = cv2.split(lab) \n",
        "    # -----Applying CLAHE to L-channel------------------------------------------- \n",
        "    clahe = cv2.createCLAHE(clipLimit=3.0, tileGridSize=(8, 8)) \n",
        "    cl = clahe.apply(l) \n",
        "    # -----Merge the CLAHE enhanced L-channel with the a and b channel----------- \n",
        "    limg = cv2.merge((cl, a, b)) \n",
        "    # # -----Converting image from LAB Color model to RGB model-------------------- \n",
        "    final = cv2.cvtColor(limg, cv2.COLOR_LAB2BGR) \n",
        "    img_bytes = cv2.imencode('.jpg', final)[1].tobytes()\n",
        "    return img_bytes"
      ],
      "metadata": {
        "id": "FyVQ2xXjYbV7"
      },
      "execution_count": null,
      "outputs": []
    },
    {
      "cell_type": "markdown",
      "source": [
        "### OCR test"
      ],
      "metadata": {
        "id": "v-9tHFF_kU6O"
      }
    },
    {
      "cell_type": "code",
      "source": [
        "def detect_text2(img_bytes):\n",
        "    \"\"\"Detects text in the file.\"\"\"\n",
        "    from google.cloud import vision\n",
        "    import io\n",
        "    client = vision.ImageAnnotatorClient()\n",
        "\n",
        "    image = vision.Image(content=img_bytes) # byte로 받아서 바로 실행\n",
        "\n",
        "    response = client.text_detection(image=image)\n",
        "    texts = response.text_annotations\n",
        "    \n",
        "    result = ''\n",
        "    for idx, text in enumerate(texts):\n",
        "        if idx > 0: result += text.description \n",
        "    return result\n",
        "\n",
        "    if response.error.message:\n",
        "        raise Exception(\n",
        "            '{}\\nFor more info on error messages, check: '\n",
        "            'https://cloud.google.com/apis/design/errors'.format(\n",
        "                response.error.message))"
      ],
      "metadata": {
        "id": "IIGEmjL9YkfC"
      },
      "execution_count": null,
      "outputs": []
    },
    {
      "cell_type": "code",
      "source": [
        "img_dir = '/content/drive/MyDrive/aiffel_hackathon3/OCR_test_ver3/test_dataset3_ver3/'\n",
        "file_list = os.listdir(img_dir)\n",
        "file_list.sort(key = lambda x : int(x[10:-4]))"
      ],
      "metadata": {
        "id": "OlGhx_TlYkhq"
      },
      "execution_count": null,
      "outputs": []
    },
    {
      "cell_type": "code",
      "source": [
        "# 시간 측정(10장 기준+ 이미지 처리 + 텍스트 처리 + 리스트 저장)\n",
        "import math\n",
        "import time\n",
        "start = time.time()\n",
        "test = []\n",
        "for i in range(10):\n",
        "    paths = img_dir + file_list[i]\n",
        "    test.append(preprocess_sentence(detect_text2(img_Contrast(paths))))\n",
        "end = time.time()\n",
        "print(f\"{end - start:.5f} sec\")\n",
        "print(test)"
      ],
      "metadata": {
        "colab": {
          "base_uri": "https://localhost:8080/"
        },
        "id": "6n_1QVTajFe4",
        "outputId": "573b3bd3-3f62-4e9c-93dd-92cecac7f0bd"
      },
      "execution_count": null,
      "outputs": [
        {
          "output_type": "stream",
          "name": "stdout",
          "text": [
            "9.46714 sec\n",
            "['세월이가면', '님의침묵', '먼후일', '', '豆', '전국의열쇠', '고난이선물이다', '오뒷세이아', '시', '']\n"
          ]
        }
      ]
    },
    {
      "cell_type": "code",
      "source": [
        "result_list4 = []\n",
        "for i in range(380):\n",
        "    paths = img_dir + file_list[i]\n",
        "    result_list4.append(preprocess_sentence(detect_text2(img_Contrast(paths))))"
      ],
      "metadata": {
        "id": "MzVKJ9vAjFhR"
      },
      "execution_count": null,
      "outputs": []
    },
    {
      "cell_type": "markdown",
      "source": [
        "## 이미지 처리 (ver.진우)"
      ],
      "metadata": {
        "id": "HR2IFp2J1D0C"
      }
    },
    {
      "cell_type": "markdown",
      "source": [
        "### 이미지 처리"
      ],
      "metadata": {
        "id": "mBoKV3U41IPH"
      }
    },
    {
      "cell_type": "code",
      "source": [
        "import cv2\n",
        "import os\n",
        "import pandas as pd\n",
        "import time\n",
        "import re\n",
        "import datetime\n",
        "import io\n",
        "import numpy as np"
      ],
      "metadata": {
        "id": "N_F3Q-zE0srX"
      },
      "execution_count": null,
      "outputs": []
    },
    {
      "cell_type": "code",
      "source": [
        "# resize(1.5배) \n",
        "def resize_img(path):\n",
        "    img = cv2.cvtColor(cv2.imread(path), cv2.IMREAD_COLOR)\n",
        "    resize_img = cv2.resize(img, dsize=(0,0), fx = 1.5, fy= 1.5, interpolation=cv2.INTER_AREA)\n",
        "    img_bytes = cv2.imencode('.jpg', resize_img)[1].tobytes()\n",
        "    return img_bytes"
      ],
      "metadata": {
        "id": "bIEXQ2Zi2jnx"
      },
      "execution_count": null,
      "outputs": []
    },
    {
      "cell_type": "code",
      "source": [
        "# grayscale + contrast\n",
        "def gray_contrast(path):\n",
        "    gray_img = cv2.imread(path, cv2.IMREAD_GRAYSCALE) # grayscale 적용\n",
        "    gray_cons = np.clip((1 + 1.0) * gray_img - 128 * 1.0, 0, 255).astype(np.uint8) # contrast 적용\n",
        "    img_bytes = cv2.imencode('.jpg', gray_cons)[1].tobytes()\n",
        "    return img_bytes"
      ],
      "metadata": {
        "id": "hzk9tOcQlOZU"
      },
      "execution_count": null,
      "outputs": []
    },
    {
      "cell_type": "code",
      "source": [
        "# grayscale + contrast + resize\n",
        "def gray_contrast_resize(path):\n",
        "    gray_img = cv2.imread(path, cv2.IMREAD_GRAYSCALE)\n",
        "    resize_img = cv2.resize(gray_img, dsize=(0,0), fx = 1.5, fy= 1.5, interpolation=cv2.INTER_AREA)\n",
        "    gray_resize_cons = np.clip((1 + 1.0) * resize_img - 128 * 1.0, 0, 255).astype(np.uint8)\n",
        "    img_bytes = cv2.imencode('.jpg', gray_resize_cons)[1].tobytes()\n",
        "    return img_bytes"
      ],
      "metadata": {
        "id": "7pHkOMJMmXCZ"
      },
      "execution_count": null,
      "outputs": []
    },
    {
      "cell_type": "code",
      "source": [
        "# 시간 측정(10장 기준+ 이미지 처리 + 텍스트 처리 + 리스트 저장)\n",
        "import math\n",
        "import time\n",
        "start = time.time()\n",
        "test = []\n",
        "for i in range(10):\n",
        "    paths = img_dir + file_list[i]\n",
        "    test.append(preprocess_sentence(detect_text2(resize_img(paths))))\n",
        "end = time.time()\n",
        "print(f\"{end - start:.5f} sec\")\n",
        "print(test)"
      ],
      "metadata": {
        "id": "0SfPP6N-2jvJ",
        "colab": {
          "base_uri": "https://localhost:8080/"
        },
        "outputId": "7a065eef-61c1-44e6-a143-025d0d0c246e"
      },
      "execution_count": null,
      "outputs": [
        {
          "output_type": "stream",
          "name": "stdout",
          "text": [
            "5.85151 sec\n",
            "['세월이가면', '님의침묵', '일먼후', '아일리。', '모모', '천국의열쇠', '고난이선물이다', '오뒷세이야', '25시', '부활']\n"
          ]
        }
      ]
    },
    {
      "cell_type": "code",
      "source": [
        "result_list5 = []\n",
        "for i in range(380):\n",
        "    paths = img_dir + file_list[i]\n",
        "    result_list5.append(preprocess_sentence(detect_text2(resize_img(paths))))"
      ],
      "metadata": {
        "id": "LcUKjjLXlOWv"
      },
      "execution_count": null,
      "outputs": []
    },
    {
      "cell_type": "code",
      "source": [
        "# 시간 측정(10장 기준+ 이미지 처리 + 텍스트 처리 + 리스트 저장)\n",
        "import math\n",
        "import time\n",
        "start = time.time()\n",
        "test = []\n",
        "for i in range(10):\n",
        "    paths = img_dir + file_list[i]\n",
        "    test.append(preprocess_sentence(detect_text2(gray_contrast(paths))))\n",
        "end = time.time()\n",
        "print(f\"{end - start:.5f} sec\")\n",
        "print(test)"
      ],
      "metadata": {
        "colab": {
          "base_uri": "https://localhost:8080/"
        },
        "id": "MLjcr0hqmA8i",
        "outputId": "223d6b33-04e6-4613-f7cb-742407116b3f"
      },
      "execution_count": null,
      "outputs": [
        {
          "output_type": "stream",
          "name": "stdout",
          "text": [
            "5.25584 sec\n",
            "['세월이가면', '님의침묵', '먼후일', '아', '모모', '천국의열쇠', '고난이선물이다', '오뒷세이아', '25', '부활']\n"
          ]
        }
      ]
    },
    {
      "cell_type": "code",
      "source": [
        "result_list6 = []\n",
        "for i in range(380):\n",
        "    paths = img_dir + file_list[i]\n",
        "    result_list6.append(preprocess_sentence(detect_text2(gray_contrast(paths))))"
      ],
      "metadata": {
        "id": "LsnqLv3fmBtT"
      },
      "execution_count": null,
      "outputs": []
    },
    {
      "cell_type": "code",
      "source": [
        "# 시간 측정(10장 기준+ 이미지 처리 + 텍스트 처리 + 리스트 저장)\n",
        "import math\n",
        "import time\n",
        "start = time.time()\n",
        "test = []\n",
        "for i in range(10):\n",
        "    paths = img_dir + file_list[i]\n",
        "    test.append(preprocess_sentence(detect_text2(gray_contrast_resize(paths))))\n",
        "end = time.time()\n",
        "print(f\"{end - start:.5f} sec\")\n",
        "print(test)"
      ],
      "metadata": {
        "colab": {
          "base_uri": "https://localhost:8080/"
        },
        "id": "PEHPfcB4mXE5",
        "outputId": "251537fe-a562-470f-c741-0f3c8ed47135"
      },
      "execution_count": null,
      "outputs": [
        {
          "output_type": "stream",
          "name": "stdout",
          "text": [
            "5.97140 sec\n",
            "['세월이가면', '님의침묵', '먼후일', '일리아스', '모', '천국의열쇠', '고난이선물이다', '아오뒷세', '시25', '']\n"
          ]
        }
      ]
    },
    {
      "cell_type": "code",
      "source": [
        "result_list7 = []\n",
        "for i in range(380):\n",
        "    paths = img_dir + file_list[i]\n",
        "    result_list7.append(preprocess_sentence(detect_text2(gray_contrast_resize(paths))))"
      ],
      "metadata": {
        "id": "G3MAHFDimXHq"
      },
      "execution_count": null,
      "outputs": []
    },
    {
      "cell_type": "markdown",
      "source": [
        "## 검증"
      ],
      "metadata": {
        "id": "TF0Z9pZA2k9w"
      }
    },
    {
      "cell_type": "markdown",
      "source": [
        "### 1차 (baseline, ver 성연)"
      ],
      "metadata": {
        "id": "96pC50O_o1Ls"
      }
    },
    {
      "cell_type": "code",
      "source": [
        "compare_df = compare_df.assign(result1 = result_list, result2 = result_list2, result3 = result_list3)"
      ],
      "metadata": {
        "id": "K9X9qPNU4CHJ"
      },
      "execution_count": null,
      "outputs": []
    },
    {
      "cell_type": "code",
      "source": [
        "# 라벨, 예측값 비교 (성능 검증) 함수\n",
        "def compare_result(df, col, num):\n",
        "    from difflib import SequenceMatcher\n",
        "    ratio_list = []\n",
        "    for i in range(num):\n",
        "        if df[col][i] == '':\n",
        "            ratio_list.append('0')\n",
        "        elif df['책제목'][i] == df[col][i]:\n",
        "            ratio_list.append('100')\n",
        "        else:\n",
        "            str1 = df.iloc[i]['책제목']\n",
        "            str2 = df.iloc[i][col]\n",
        "            ratio = SequenceMatcher(None, str1, str2).ratio()\n",
        "            ratio_list.append(round(ratio*100))\n",
        "    return ratio_list"
      ],
      "metadata": {
        "id": "u5gYzU1J2t14"
      },
      "execution_count": null,
      "outputs": []
    },
    {
      "cell_type": "code",
      "source": [
        "com1 = compare_result(compare_df, 'result1', 380)\n",
        "com2 = compare_result(compare_df, 'result2', 380)\n",
        "com3 = compare_result(compare_df, 'result3', 380)"
      ],
      "metadata": {
        "id": "eRXhAmRk4iDC"
      },
      "execution_count": null,
      "outputs": []
    },
    {
      "cell_type": "code",
      "source": [
        "compare_df = compare_df.assign(compare1 = com1, compare2 = com2, compare3 = com3)"
      ],
      "metadata": {
        "id": "knNuhVd945m6"
      },
      "execution_count": null,
      "outputs": []
    },
    {
      "cell_type": "code",
      "source": [
        "compare_df"
      ],
      "metadata": {
        "colab": {
          "base_uri": "https://localhost:8080/",
          "height": 424
        },
        "id": "HQ3-FRTB5C5D",
        "outputId": "032a4a77-57b1-47ad-d815-95ab611ecbd2"
      },
      "execution_count": null,
      "outputs": [
        {
          "output_type": "execute_result",
          "data": {
            "text/html": [
              "\n",
              "  <div id=\"df-fd3728f4-e0fb-4bbb-ada0-4a24d9ab2efd\">\n",
              "    <div class=\"colab-df-container\">\n",
              "      <div>\n",
              "<style scoped>\n",
              "    .dataframe tbody tr th:only-of-type {\n",
              "        vertical-align: middle;\n",
              "    }\n",
              "\n",
              "    .dataframe tbody tr th {\n",
              "        vertical-align: top;\n",
              "    }\n",
              "\n",
              "    .dataframe thead th {\n",
              "        text-align: right;\n",
              "    }\n",
              "</style>\n",
              "<table border=\"1\" class=\"dataframe\">\n",
              "  <thead>\n",
              "    <tr style=\"text-align: right;\">\n",
              "      <th></th>\n",
              "      <th>파일명</th>\n",
              "      <th>책제목</th>\n",
              "      <th>result1</th>\n",
              "      <th>result2</th>\n",
              "      <th>result3</th>\n",
              "      <th>compare1</th>\n",
              "      <th>compare2</th>\n",
              "      <th>compare3</th>\n",
              "    </tr>\n",
              "  </thead>\n",
              "  <tbody>\n",
              "    <tr>\n",
              "      <th>0</th>\n",
              "      <td>test_title1.jpg</td>\n",
              "      <td>세월이가면</td>\n",
              "      <td>세월이가면</td>\n",
              "      <td>세월이가면</td>\n",
              "      <td>세월이가면</td>\n",
              "      <td>100</td>\n",
              "      <td>100</td>\n",
              "      <td>100</td>\n",
              "    </tr>\n",
              "    <tr>\n",
              "      <th>1</th>\n",
              "      <td>test_title2.jpg</td>\n",
              "      <td>님의침묵</td>\n",
              "      <td>님의침묵</td>\n",
              "      <td>님의침묵</td>\n",
              "      <td>님의침묵</td>\n",
              "      <td>100</td>\n",
              "      <td>100</td>\n",
              "      <td>100</td>\n",
              "    </tr>\n",
              "    <tr>\n",
              "      <th>2</th>\n",
              "      <td>test_title3.jpg</td>\n",
              "      <td>먼후일</td>\n",
              "      <td>먼후일</td>\n",
              "      <td>먼후일</td>\n",
              "      <td>먼후일</td>\n",
              "      <td>100</td>\n",
              "      <td>100</td>\n",
              "      <td>100</td>\n",
              "    </tr>\n",
              "    <tr>\n",
              "      <th>3</th>\n",
              "      <td>test_title4.jpg</td>\n",
              "      <td>일리아스</td>\n",
              "      <td>아</td>\n",
              "      <td>일리아스</td>\n",
              "      <td>아일리。</td>\n",
              "      <td>40</td>\n",
              "      <td>100</td>\n",
              "      <td>50</td>\n",
              "    </tr>\n",
              "    <tr>\n",
              "      <th>4</th>\n",
              "      <td>test_title5.jpg</td>\n",
              "      <td>모모</td>\n",
              "      <td>모모</td>\n",
              "      <td>모모</td>\n",
              "      <td>모모</td>\n",
              "      <td>100</td>\n",
              "      <td>100</td>\n",
              "      <td>100</td>\n",
              "    </tr>\n",
              "    <tr>\n",
              "      <th>...</th>\n",
              "      <td>...</td>\n",
              "      <td>...</td>\n",
              "      <td>...</td>\n",
              "      <td>...</td>\n",
              "      <td>...</td>\n",
              "      <td>...</td>\n",
              "      <td>...</td>\n",
              "      <td>...</td>\n",
              "    </tr>\n",
              "    <tr>\n",
              "      <th>375</th>\n",
              "      <td>test_title376.jpg</td>\n",
              "      <td>파리지앵마카롱</td>\n",
              "      <td>파리지앵마카롱</td>\n",
              "      <td>파리지앵마카롱7</td>\n",
              "      <td>파리지앵마카롱</td>\n",
              "      <td>100</td>\n",
              "      <td>93</td>\n",
              "      <td>100</td>\n",
              "    </tr>\n",
              "    <tr>\n",
              "      <th>376</th>\n",
              "      <td>test_title377.jpg</td>\n",
              "      <td>아이러브와플</td>\n",
              "      <td></td>\n",
              "      <td></td>\n",
              "      <td></td>\n",
              "      <td>0</td>\n",
              "      <td>0</td>\n",
              "      <td>0</td>\n",
              "    </tr>\n",
              "    <tr>\n",
              "      <th>377</th>\n",
              "      <td>test_title378.jpg</td>\n",
              "      <td>280일태교다이어리헬로마이베이비</td>\n",
              "      <td>280일태교다이어리헬로마이베이비</td>\n",
              "      <td>280일태교다이어리헬로마이베이비</td>\n",
              "      <td>280일태교다이어리헬로마이베이비</td>\n",
              "      <td>100</td>\n",
              "      <td>100</td>\n",
              "      <td>100</td>\n",
              "    </tr>\n",
              "    <tr>\n",
              "      <th>378</th>\n",
              "      <td>test_title379.jpg</td>\n",
              "      <td>홍차의비밀</td>\n",
              "      <td>홍차의비밀</td>\n",
              "      <td>홍차의비밀</td>\n",
              "      <td>홍차의비밀</td>\n",
              "      <td>100</td>\n",
              "      <td>100</td>\n",
              "      <td>100</td>\n",
              "    </tr>\n",
              "    <tr>\n",
              "      <th>379</th>\n",
              "      <td>test_title380.jpg</td>\n",
              "      <td>우사기의일본가정식한그릇</td>\n",
              "      <td>우사기의일본가정식한그릇</td>\n",
              "      <td>우사기의일본가정식한그릇</td>\n",
              "      <td>우사기의일본가정식한그릇</td>\n",
              "      <td>100</td>\n",
              "      <td>100</td>\n",
              "      <td>100</td>\n",
              "    </tr>\n",
              "  </tbody>\n",
              "</table>\n",
              "<p>380 rows × 8 columns</p>\n",
              "</div>\n",
              "      <button class=\"colab-df-convert\" onclick=\"convertToInteractive('df-fd3728f4-e0fb-4bbb-ada0-4a24d9ab2efd')\"\n",
              "              title=\"Convert this dataframe to an interactive table.\"\n",
              "              style=\"display:none;\">\n",
              "        \n",
              "  <svg xmlns=\"http://www.w3.org/2000/svg\" height=\"24px\"viewBox=\"0 0 24 24\"\n",
              "       width=\"24px\">\n",
              "    <path d=\"M0 0h24v24H0V0z\" fill=\"none\"/>\n",
              "    <path d=\"M18.56 5.44l.94 2.06.94-2.06 2.06-.94-2.06-.94-.94-2.06-.94 2.06-2.06.94zm-11 1L8.5 8.5l.94-2.06 2.06-.94-2.06-.94L8.5 2.5l-.94 2.06-2.06.94zm10 10l.94 2.06.94-2.06 2.06-.94-2.06-.94-.94-2.06-.94 2.06-2.06.94z\"/><path d=\"M17.41 7.96l-1.37-1.37c-.4-.4-.92-.59-1.43-.59-.52 0-1.04.2-1.43.59L10.3 9.45l-7.72 7.72c-.78.78-.78 2.05 0 2.83L4 21.41c.39.39.9.59 1.41.59.51 0 1.02-.2 1.41-.59l7.78-7.78 2.81-2.81c.8-.78.8-2.07 0-2.86zM5.41 20L4 18.59l7.72-7.72 1.47 1.35L5.41 20z\"/>\n",
              "  </svg>\n",
              "      </button>\n",
              "      \n",
              "  <style>\n",
              "    .colab-df-container {\n",
              "      display:flex;\n",
              "      flex-wrap:wrap;\n",
              "      gap: 12px;\n",
              "    }\n",
              "\n",
              "    .colab-df-convert {\n",
              "      background-color: #E8F0FE;\n",
              "      border: none;\n",
              "      border-radius: 50%;\n",
              "      cursor: pointer;\n",
              "      display: none;\n",
              "      fill: #1967D2;\n",
              "      height: 32px;\n",
              "      padding: 0 0 0 0;\n",
              "      width: 32px;\n",
              "    }\n",
              "\n",
              "    .colab-df-convert:hover {\n",
              "      background-color: #E2EBFA;\n",
              "      box-shadow: 0px 1px 2px rgba(60, 64, 67, 0.3), 0px 1px 3px 1px rgba(60, 64, 67, 0.15);\n",
              "      fill: #174EA6;\n",
              "    }\n",
              "\n",
              "    [theme=dark] .colab-df-convert {\n",
              "      background-color: #3B4455;\n",
              "      fill: #D2E3FC;\n",
              "    }\n",
              "\n",
              "    [theme=dark] .colab-df-convert:hover {\n",
              "      background-color: #434B5C;\n",
              "      box-shadow: 0px 1px 3px 1px rgba(0, 0, 0, 0.15);\n",
              "      filter: drop-shadow(0px 1px 2px rgba(0, 0, 0, 0.3));\n",
              "      fill: #FFFFFF;\n",
              "    }\n",
              "  </style>\n",
              "\n",
              "      <script>\n",
              "        const buttonEl =\n",
              "          document.querySelector('#df-fd3728f4-e0fb-4bbb-ada0-4a24d9ab2efd button.colab-df-convert');\n",
              "        buttonEl.style.display =\n",
              "          google.colab.kernel.accessAllowed ? 'block' : 'none';\n",
              "\n",
              "        async function convertToInteractive(key) {\n",
              "          const element = document.querySelector('#df-fd3728f4-e0fb-4bbb-ada0-4a24d9ab2efd');\n",
              "          const dataTable =\n",
              "            await google.colab.kernel.invokeFunction('convertToInteractive',\n",
              "                                                     [key], {});\n",
              "          if (!dataTable) return;\n",
              "\n",
              "          const docLinkHtml = 'Like what you see? Visit the ' +\n",
              "            '<a target=\"_blank\" href=https://colab.research.google.com/notebooks/data_table.ipynb>data table notebook</a>'\n",
              "            + ' to learn more about interactive tables.';\n",
              "          element.innerHTML = '';\n",
              "          dataTable['output_type'] = 'display_data';\n",
              "          await google.colab.output.renderOutput(dataTable, element);\n",
              "          const docLink = document.createElement('div');\n",
              "          docLink.innerHTML = docLinkHtml;\n",
              "          element.appendChild(docLink);\n",
              "        }\n",
              "      </script>\n",
              "    </div>\n",
              "  </div>\n",
              "  "
            ],
            "text/plain": [
              "                   파일명                책제목  ... compare2 compare3\n",
              "0      test_title1.jpg              세월이가면  ...      100      100\n",
              "1      test_title2.jpg               님의침묵  ...      100      100\n",
              "2      test_title3.jpg                먼후일  ...      100      100\n",
              "3      test_title4.jpg               일리아스  ...      100       50\n",
              "4      test_title5.jpg                 모모  ...      100      100\n",
              "..                 ...                ...  ...      ...      ...\n",
              "375  test_title376.jpg            파리지앵마카롱  ...       93      100\n",
              "376  test_title377.jpg             아이러브와플  ...        0        0\n",
              "377  test_title378.jpg  280일태교다이어리헬로마이베이비  ...      100      100\n",
              "378  test_title379.jpg              홍차의비밀  ...      100      100\n",
              "379  test_title380.jpg       우사기의일본가정식한그릇  ...      100      100\n",
              "\n",
              "[380 rows x 8 columns]"
            ]
          },
          "metadata": {},
          "execution_count": 75
        }
      ]
    },
    {
      "cell_type": "code",
      "source": [
        "compare_df.to_csv('/content/drive/MyDrive/aiffel_hackathon3/OCR_test_ver3/ocr_test_ver3_result2.csv', index=False)"
      ],
      "metadata": {
        "id": "PW9AsnUU6Kyu"
      },
      "execution_count": null,
      "outputs": []
    },
    {
      "cell_type": "code",
      "source": [
        "print(compare_df['compare1'].value_counts(ascending = False).head(10))\n",
        "print(compare_df['compare2'].value_counts(ascending = False).head(10))\n",
        "print(compare_df['compare3'].value_counts(ascending = False).head(10))"
      ],
      "metadata": {
        "colab": {
          "base_uri": "https://localhost:8080/"
        },
        "id": "0wlLXg-O5Vks",
        "outputId": "c9ab696a-3c6f-4c5f-e138-c7f0bbb40393"
      },
      "execution_count": null,
      "outputs": [
        {
          "output_type": "stream",
          "name": "stdout",
          "text": [
            "100    282\n",
            "0       11\n",
            "67       9\n",
            "80       7\n",
            "86       7\n",
            "50       6\n",
            "83       5\n",
            "92       4\n",
            "88       4\n",
            "89       4\n",
            "Name: compare1, dtype: int64\n",
            "100    299\n",
            "67       8\n",
            "0        7\n",
            "0        6\n",
            "86       6\n",
            "91       5\n",
            "50       4\n",
            "93       4\n",
            "58       3\n",
            "80       3\n",
            "Name: compare2, dtype: int64\n",
            "100    290\n",
            "86       7\n",
            "0        7\n",
            "83       6\n",
            "0        5\n",
            "67       5\n",
            "50       4\n",
            "91       4\n",
            "95       4\n",
            "92       4\n",
            "Name: compare3, dtype: int64\n"
          ]
        }
      ]
    },
    {
      "cell_type": "markdown",
      "source": [
        "### 2차 (ver유진, 진우)"
      ],
      "metadata": {
        "id": "PNYj6Dbwo8ji"
      }
    },
    {
      "cell_type": "code",
      "source": [
        "compare_df2 = compare_df2.assign(result4 = result_list4, result5 = result_list5, result6 = result_list6, result7 = result_list7)"
      ],
      "metadata": {
        "id": "0eKYFkcjpB1d"
      },
      "execution_count": null,
      "outputs": []
    },
    {
      "cell_type": "code",
      "source": [
        "com4 = compare_result(compare_df2, 'result4', 380)\n",
        "com5 = compare_result(compare_df2, 'result5', 380)\n",
        "com6 = compare_result(compare_df2, 'result6', 380)\n",
        "com7 = compare_result(compare_df2, 'result7', 380)"
      ],
      "metadata": {
        "id": "C_okp06PpPVE"
      },
      "execution_count": null,
      "outputs": []
    },
    {
      "cell_type": "code",
      "source": [
        "compare_df2 = compare_df2.assign(compare4 = com4, compare5 = com5, compare6 = com6, compare7 = com7)"
      ],
      "metadata": {
        "id": "opsbKaNCpdHJ"
      },
      "execution_count": null,
      "outputs": []
    },
    {
      "cell_type": "code",
      "source": [
        "compare_df2.to_csv('/content/drive/MyDrive/aiffel_hackathon3/OCR_test_ver3/ocr_test_ver3_result3.csv', index=False)"
      ],
      "metadata": {
        "id": "tUcyQnrLpnuO"
      },
      "execution_count": null,
      "outputs": []
    },
    {
      "cell_type": "code",
      "source": [
        "print(compare_df2['compare4'].value_counts(ascending = False).head(10))\n",
        "print(compare_df2['compare5'].value_counts(ascending = False).head(10))\n",
        "print(compare_df2['compare6'].value_counts(ascending = False).head(10))\n",
        "print(compare_df2['compare7'].value_counts(ascending = False).head(10))"
      ],
      "metadata": {
        "colab": {
          "base_uri": "https://localhost:8080/"
        },
        "id": "aFkp-wR_psqt",
        "outputId": "b201fa1d-abeb-4be2-9b1f-a770dfd193fa"
      },
      "execution_count": null,
      "outputs": [
        {
          "output_type": "stream",
          "name": "stdout",
          "text": [
            "100    257\n",
            "0       19\n",
            "0       11\n",
            "80       9\n",
            "89       8\n",
            "88       6\n",
            "83       5\n",
            "86       5\n",
            "92       4\n",
            "50       4\n",
            "Name: compare4, dtype: int64\n",
            "100    287\n",
            "0        8\n",
            "0        6\n",
            "80       5\n",
            "88       5\n",
            "91       5\n",
            "67       5\n",
            "50       4\n",
            "12       3\n",
            "83       3\n",
            "Name: compare5, dtype: int64\n",
            "100    269\n",
            "0       11\n",
            "89       8\n",
            "0        8\n",
            "86       8\n",
            "80       7\n",
            "50       6\n",
            "90       5\n",
            "67       5\n",
            "56       4\n",
            "Name: compare6, dtype: int64\n",
            "100    279\n",
            "0       12\n",
            "0       10\n",
            "67      10\n",
            "86       8\n",
            "80       6\n",
            "95       4\n",
            "88       4\n",
            "90       4\n",
            "91       4\n",
            "Name: compare7, dtype: int64\n"
          ]
        }
      ]
    }
  ]
}