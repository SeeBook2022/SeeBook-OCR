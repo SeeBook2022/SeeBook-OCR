{
  "nbformat": 4,
  "nbformat_minor": 0,
  "metadata": {
    "colab": {
      "name": "Stage2_title_inf.ipynb",
      "provenance": [],
      "authorship_tag": "ABX9TyNYL1MlE+pwSUisIqT20y48",
      "include_colab_link": true
    },
    "kernelspec": {
      "name": "python3",
      "display_name": "Python 3"
    },
    "language_info": {
      "name": "python"
    }
  },
  "cells": [
    {
      "cell_type": "markdown",
      "metadata": {
        "id": "view-in-github",
        "colab_type": "text"
      },
      "source": [
        "<a href=\"https://colab.research.google.com/github/SeeBook2022/SeeBook-OCR/blob/main/src/yung/stage2/Stage2_title_inf.ipynb\" target=\"_parent\"><img src=\"https://colab.research.google.com/assets/colab-badge.svg\" alt=\"Open In Colab\"/></a>"
      ]
    },
    {
      "cell_type": "code",
      "execution_count": null,
      "metadata": {
        "id": "bfrnCdvMYMHT"
      },
      "outputs": [],
      "source": [
        ""
      ]
    }
  ]
}