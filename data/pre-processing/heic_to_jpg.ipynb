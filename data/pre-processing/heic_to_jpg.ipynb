{
  "nbformat": 4,
  "nbformat_minor": 0,
  "metadata": {
    "colab": {
      "name": "heic_to_jpg.ipynb",
      "provenance": [],
      "collapsed_sections": [],
      "authorship_tag": "ABX9TyNhg9a0nPiAFiGyTFSIHYxS",
      "include_colab_link": true
    },
    "kernelspec": {
      "name": "python3",
      "display_name": "Python 3"
    },
    "language_info": {
      "name": "python"
    }
  },
  "cells": [
    {
      "cell_type": "markdown",
      "metadata": {
        "id": "view-in-github",
        "colab_type": "text"
      },
      "source": [
        "<a href=\"https://colab.research.google.com/github/SeeBook2022/SeeBook-OCR/blob/main/data/pre-processing/heic_to_jpg.ipynb\" target=\"_parent\"><img src=\"https://colab.research.google.com/assets/colab-badge.svg\" alt=\"Open In Colab\"/></a>"
      ]
    },
    {
      "cell_type": "code",
      "source": [
        "from google.colab import drive\n",
        "drive.mount('/content/drive')"
      ],
      "metadata": {
        "colab": {
          "base_uri": "https://localhost:8080/"
        },
        "id": "BqMUhSQZg7Ur",
        "outputId": "fe2daea2-7fb5-4554-ac72-c5afa993b337"
      },
      "execution_count": null,
      "outputs": [
        {
          "output_type": "stream",
          "name": "stdout",
          "text": [
            "Mounted at /content/drive\n"
          ]
        }
      ]
    },
    {
      "cell_type": "code",
      "source": [
        "# !pip install pyheif"
      ],
      "metadata": {
        "id": "sLhP9JWPtQbn"
      },
      "execution_count": null,
      "outputs": []
    },
    {
      "cell_type": "code",
      "source": [
        "# 라이브러리 로드\n",
        "import pyheif\n",
        "from PIL import Image\n",
        "import os\n",
        "\n",
        "def heif_to_jpg(dir_path, file_list, save_path):\n",
        "\n",
        "    # 저장된 경로에서 파일 로드\n",
        "    for idx, file in enumerate(file_list):\n",
        "        heif_file = pyheif.read(dir_path + file)\n",
        "\n",
        "        # 불러온 파일 정보로 바이너리 데이터 생성\n",
        "        image = Image.frombytes(\n",
        "            heif_file.mode,\n",
        "            heif_file.size,\n",
        "            heif_file.data,\n",
        "            'raw',\n",
        "            heif_file.mode,\n",
        "            heif_file.stride,\n",
        "        )\n",
        "\n",
        "        # jpeg 확장자로 이미지 저장\n",
        "        image.save(save_path + 'img'+ str(idx), \"JPEG\")\n"
      ],
      "metadata": {
        "id": "g6iSWb41g7Y2"
      },
      "execution_count": null,
      "outputs": []
    },
    {
      "cell_type": "code",
      "source": [
        "# 경로 및 변수 지정\n",
        "dir_path = '/content/drive/MyDrive/aiffel_hackathon3/Test_sample/heic/' # heic 파일 경로\n",
        "file_list = os.listdir(dir_path)\n",
        "save_path = '/content/drive/MyDrive/aiffel_hackathon3/Test_sample/'# jpg 파일 저장 경로\n",
        "\n",
        "heif_to_jpg(dir_path, file_list, save_path)"
      ],
      "metadata": {
        "id": "mtNbxD3zolbS"
      },
      "execution_count": null,
      "outputs": []
    },
    {
      "cell_type": "code",
      "source": [
        "# --- extra\n",
        "# 데이터 이미지 확인\n",
        "pil_im = Image.open('/content/drive/MyDrive/AIFFEL/OCR/Dataset/heic2jpg_test/jpg/IMG_test.jpg')"
      ],
      "metadata": {
        "id": "I1GTJ2brgf30"
      },
      "execution_count": null,
      "outputs": []
    }
  ]
}