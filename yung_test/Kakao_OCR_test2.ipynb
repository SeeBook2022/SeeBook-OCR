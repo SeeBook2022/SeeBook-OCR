{
  "cells": [
    {
      "cell_type": "markdown",
      "metadata": {
        "id": "view-in-github",
        "colab_type": "text"
      },
      "source": [
        "<a href=\"https://colab.research.google.com/github/SeeBook2022/SeeBook-OCR/blob/main/yung_test/Kakao_OCR_test2.ipynb\" target=\"_parent\"><img src=\"https://colab.research.google.com/assets/colab-badge.svg\" alt=\"Open In Colab\"/></a>"
      ]
    },
    {
      "cell_type": "markdown",
      "metadata": {
        "id": "59CLXc9xhN4t"
      },
      "source": [
        "# Kakao OCR API 구현 예제 \n",
        "참조: \n",
        "https://developers.kakao.com/docs/latest/ko/vision/dev-guide#ocr\n",
        "\n",
        "```\n",
        "requests==2.14.2\n",
        "Pillow == 5.0.0\n",
        "```\n",
        "\n",
        "```\n",
        "Please run with args: $ python example.py /path/to/image appkey\n",
        "\n",
        "/content/drive/MyDrive/AIFFEL/OCR/Dataset/book_crop/bookshelf6.jpg \n",
        "\n",
        "300a81cbd55e46e42558ac355472adaf\n",
        "```"
      ]
    },
    {
      "cell_type": "code",
      "execution_count": null,
      "metadata": {
        "colab": {
          "background_save": true
        },
        "id": "XE3c0Hyng08t"
      },
      "outputs": [],
      "source": [
        "# 라이브러리 버전 확인\n",
        "# !pip show Pillow"
      ]
    },
    {
      "cell_type": "code",
      "execution_count": null,
      "metadata": {
        "colab": {
          "background_save": true
        },
        "id": "AI2Zlzpls477"
      },
      "outputs": [],
      "source": [
        "# cd /content/drive/MyDrive/AIFFEL/OCR/src/ocr_test"
      ]
    },
    {
      "cell_type": "code",
      "execution_count": null,
      "metadata": {
        "colab": {
          "background_save": true,
          "base_uri": "https://localhost:8080/",
          "height": 38
        },
        "id": "9CxU7idmmf_Q",
        "outputId": "e8471997-f6af-45f0-fe92-b0ec42c0ce33"
      },
      "outputs": [
        {
          "data": {
            "application/vnd.google.colaboratory.intrinsic+json": {
              "type": "string"
            },
            "text/plain": [
              "'/content'"
            ]
          },
          "execution_count": null,
          "metadata": {},
          "output_type": "execute_result"
        }
      ],
      "source": [
        "# pwd"
      ]
    },
    {
      "cell_type": "code",
      "execution_count": null,
      "metadata": {
        "colab": {
          "background_save": true,
          "base_uri": "https://localhost:8080/"
        },
        "id": "HRMqVIO-h1go",
        "outputId": "67a87123-fa09-4b6c-9d03-5fdaa8bac240"
      },
      "outputs": [
        {
          "name": "stdout",
          "output_type": "stream",
          "text": [
            "Overwriting /content/drive/MyDrive/AIFFEL/OCR/src/ocr_test/kakao_ocr_shell.py\n"
          ]
        }
      ],
      "source": [
        "%%writefile /content/drive/MyDrive/AIFFEL/OCR/src/ocr_test/kakao_ocr_shell.py\n",
        "import json\n",
        "\n",
        "import cv2\n",
        "import requests\n",
        "import sys\n",
        "\n",
        "LIMIT_PX = 1024\n",
        "LIMIT_BYTE = 1024*1024 # 1MB\n",
        "LIMIT_BOX = 40\n",
        "\n",
        "def kakao_ocr_resize(image_path: str):\n",
        "  \"\"\"\n",
        "  ocr detect/recognize api helper\n",
        "  ocr api 의 제약사항을 넘어서는 이미지는 요청 이전에 전처리가 필요\n",
        "\n",
        "  pixel 초과  : resize\n",
        "  용량 초과   : 다른 포멧으로 압축, 이미지 분할 등\n",
        "\n",
        "  :param image_path: 이미지 파일 경로\n",
        "  :return:\n",
        "  \"\"\"\n",
        "  image = cv2.imread(image_path)\n",
        "  height, width, _ = image.shape\n",
        "\n",
        "  if LIMIT_PX < height or LIMIT_PX < width:\n",
        "    ratio = float(LIMIT_PX) / max(height, width)\n",
        "    iamge = cv2.resize(image, None, fx=ratio, fy=ratio)\n",
        "    height, width, _ = height, width, _ = image.shape\n",
        "\n",
        "    # api를 사용하기 전에 이미지 resize된 경우, recognize 시 resize된 결과를 사용\n",
        "    image_path = '{}_reiszed.jpg'.format(image_path)\n",
        "    cv2.imwrite(image_path, image)\n",
        "\n",
        "    return image_path\n",
        "  return None\n",
        "\n",
        "def kakao_ocr(image_path: str, appkey: str):\n",
        "  \"\"\"\n",
        "  OCR api request example\n",
        "  :param image_path: 이미지파일 경로\n",
        "  :param appkey: 카카오 앱 REST API 키\n",
        "  \"\"\"\n",
        "  API_URL = 'https://dapi.kakao.com/v2/vision/text/ocr'\n",
        "\n",
        "  print('image_path:', type(image_path), image_path)\n",
        "  print('app KEY:', type(appkey), appkey)\n",
        "\n",
        "  headers = {'Authorization' : 'KakaoAK {}'.format(appkey)}   # Original source\n",
        "  # headers = {'Authorization' : 'KakaoAK 300a81cbd55e46e42558ac355472adaf'}   # REST API KEY\n",
        "  # headers = {'Authorization' : 'KakaoAK 6b4299e42103df2a041062bca5269a02'}   # Admin KEY\n",
        "\n",
        "  image = cv2.imread(image_path)\n",
        "  jpeg_image = cv2.imencode('.jpg', image)[1]\n",
        "  data = jpeg_image.tobytes()\n",
        "\n",
        "  return requests.post(API_URL, headers=headers, files={'image': data})\n",
        "\n",
        "\n",
        "def main():\n",
        "  if len(sys.argv) != 3:\n",
        "    print(\"Please run with args: $ python example.py /path/to/image appkey\")\n",
        "\n",
        "  # load image data  \n",
        "  image_path = \"/content/drive/MyDrive/AIFFEL/OCR/src/ocr_test/data/bookshelf.jpeg\"\n",
        "\n",
        "  # kakao API KEY\n",
        "  appkey = '300a81cbd55e46e42558ac355472adaf'   # REST API KEY\n",
        "  # image_path, appkey = sys.argv[1], sys.argv[2]   # original source\n",
        "  \n",
        "  resize_impath = kakao_ocr_resize(image_path)\n",
        "  if resize_impath is not None:\n",
        "    image_path = resize_impath\n",
        "    print(\"원본 대신 리사이즈 된 이미지를 사용합니다.\")\n",
        "\n",
        "  # kakao API 에서 bbox 좌표, 인식한 텍스트 출력\n",
        "  output = kakao_ocr(image_path, appkey).json()\n",
        "  outputdata = json.dumps(output, ensure_ascii=False, sort_keys=True, indent=2))\n",
        "  print(\"[OCR] output:\\n{}\\n\".format(outputdata)\n",
        "\n",
        "  # 출력 결과를 array 에 저장\n",
        "  outputdata = json.loads(outputdata)\n",
        "\n",
        "  for i in range(len(outputdata['results'])):\n",
        "    x = outputdata['results'][i]['boxes'][0][0]\n",
        "    y = outputdata['results'][i]['boxes'][0][1]\n",
        "    w = (outputdata['results'][i]['boxes'][1][0] - x = outputdata['results'][i]['boxes'][0][0])\n",
        "    h = (outputdata['results'][i]['boxes'][2][1] - x = outputdata['results'][i]['boxes'][0][1])\n",
        "\n",
        "    # 원본 이미지 출력\n",
        "    org_image = cv2.imread(image_path)\n",
        "    # bbox 범위 이미지\n",
        "    img_trim = org_image[y:y+h, x:x+w]\n",
        "    cv2_imshow(img_trim)\n",
        "    print(outputdata['result'][i]['recognition_words'][0])\n",
        "\n",
        "\n",
        "if __name__ == '__main__':\n",
        "  main()\n"
      ]
    },
    {
      "cell_type": "markdown",
      "metadata": {
        "id": "sJNB_QEsnMle"
      },
      "source": [
        "* 작업 디렉토리로 이동"
      ]
    },
    {
      "cell_type": "code",
      "execution_count": null,
      "metadata": {
        "colab": {
          "background_save": true,
          "base_uri": "https://localhost:8080/"
        },
        "id": "ackR0h3TmZ6M",
        "outputId": "43fd9e0d-f4fa-4075-92c0-1cf5d251681c"
      },
      "outputs": [
        {
          "name": "stdout",
          "output_type": "stream",
          "text": [
            "/content/drive/MyDrive/AIFFEL/OCR/src/ocr_test\n"
          ]
        }
      ],
      "source": [
        "cd /content/drive/MyDrive/AIFFEL/OCR/src/ocr_test"
      ]
    },
    {
      "cell_type": "code",
      "execution_count": null,
      "metadata": {
        "colab": {
          "background_save": true,
          "base_uri": "https://localhost:8080/",
          "height": 38
        },
        "id": "bHVBpueOuPwV",
        "outputId": "df3534c8-0692-4ac9-b679-05fccf4c96c3"
      },
      "outputs": [
        {
          "data": {
            "application/vnd.google.colaboratory.intrinsic+json": {
              "type": "string"
            },
            "text/plain": [
              "'/content/drive/MyDrive/AIFFEL/OCR/src/ocr_test'"
            ]
          },
          "execution_count": null,
          "metadata": {},
          "output_type": "execute_result"
        }
      ],
      "source": [
        "pwd"
      ]
    },
    {
      "cell_type": "code",
      "execution_count": null,
      "metadata": {
        "colab": {
          "background_save": true
        },
        "id": "3jBMa3dDtQQE",
        "outputId": "de356e91-0da2-43c1-9565-927150976616"
      },
      "outputs": [
        {
          "ename": "SyntaxError",
          "evalue": "ignored",
          "output_type": "error",
          "traceback": [
            "\u001b[0;36m  File \u001b[0;32m\"/content/drive/MyDrive/AIFFEL/OCR/src/ocr_test/kakao_ocr_shell.py\"\u001b[0;36m, line \u001b[0;32m77\u001b[0m\n\u001b[0;31m    outputdata = json.dumps(output, ensure_ascii=False, sort_keys=True, indent=2))\u001b[0m\n\u001b[0m                                                                                 ^\u001b[0m\n\u001b[0;31mSyntaxError\u001b[0m\u001b[0;31m:\u001b[0m invalid syntax\n"
          ]
        }
      ],
      "source": [
        "import kakao_ocr_shell"
      ]
    },
    {
      "cell_type": "code",
      "execution_count": null,
      "metadata": {
        "colab": {
          "background_save": true
        },
        "id": "ctwUb2MwuFIQ"
      },
      "outputs": [],
      "source": [
        "%%timeit -r 5\n",
        "kakao_ocr_shell.main()"
      ]
    },
    {
      "cell_type": "code",
      "execution_count": null,
      "metadata": {
        "colab": {
          "background_save": true
        },
        "id": "oDxf4eCjDTGJ"
      },
      "outputs": [],
      "source": [
        "# shell command \n",
        "# python kakao_ocr_shell.py /content/drive/MyDrive/AIFFEL/OCR/src/ocr_test/data/image212.png be974432f8b2ee4ca776f96f5bfde04b\n",
        "# python kakao_ocr_shell.py /content/drive/MyDrive/AIFFEL/OCR/src/ocr_test/data/image212.png 300a81cbd55e46e42558ac355472adaf\n",
        "# python kakao_ocr_shell.py /content/drive/MyDrive/AIFFEL/OCR/src/ocr_test/data/image212.png e41ae95e70ada29a0530676560a57ba8"
      ]
    },
    {
      "cell_type": "code",
      "execution_count": null,
      "metadata": {
        "colab": {
          "background_save": true
        },
        "id": "Z4EcdkxBztKb"
      },
      "outputs": [],
      "source": [
        "%timeit?"
      ]
    },
    {
      "cell_type": "code",
      "execution_count": null,
      "metadata": {
        "colab": {
          "background_save": true
        },
        "id": "kYvKT1YNuqCT"
      },
      "outputs": [],
      "source": [
        "%%timeit\n",
        "# OCR 단계 소요 시간 측정\n",
        "kakao_ocr_shell.image_path = 'image126.jpg'\n",
        "kakao_ocr_shell.appkey = 'asdfg'"
      ]
    },
    {
      "cell_type": "code",
      "execution_count": null,
      "metadata": {
        "colab": {
          "background_save": true
        },
        "id": "ZAo3d-I9o2lR"
      },
      "outputs": [],
      "source": [
        "from google.colab.patches import cv2_imshow\n",
        "import cv2\n",
        "\n",
        "img = cv2.imread('/content/drive/MyDrive/AIFFEL/OCR/src/ocr_test/data/image212.png', cv2.IMREAD_UNCHANGED )\n",
        "cv2_imshow(img)"
      ]
    },
    {
      "cell_type": "code",
      "execution_count": null,
      "metadata": {
        "colab": {
          "background_save": true
        },
        "id": "mP4wzftZ9J5X"
      },
      "outputs": [],
      "source": [
        "a = '123'\n",
        "type(a)"
      ]
    },
    {
      "cell_type": "code",
      "execution_count": null,
      "metadata": {
        "colab": {
          "background_save": true
        },
        "id": "Ne1kfG41Hm8P"
      },
      "outputs": [],
      "source": [
        ""
      ]
    }
  ],
  "metadata": {
    "colab": {
      "collapsed_sections": [],
      "name": "Kakao_OCR_test2.ipynb",
      "provenance": [],
      "mount_file_id": "1wG6wVBED3LcC2fs9Vmfx1h6ic1ujL7SI",
      "authorship_tag": "ABX9TyMfI/M8QBUYKpEVEIp1dvUW",
      "include_colab_link": true
    },
    "kernelspec": {
      "display_name": "Python 3",
      "name": "python3"
    },
    "language_info": {
      "name": "python"
    }
  },
  "nbformat": 4,
  "nbformat_minor": 0
}